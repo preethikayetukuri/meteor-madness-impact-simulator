{
  "nbformat": 4,
  "nbformat_minor": 0,
  "metadata": {
    "colab": {
      "provenance": []
    },
    "kernelspec": {
      "name": "python3",
      "display_name": "Python 3"
    },
    "language_info": {
      "name": "python"
    },
    "widgets": {
      "application/vnd.jupyter.widget-state+json": {
        "0f9ee3c22dc04728b456b4d691b66d0a": {
          "model_module": "@jupyter-widgets/controls",
          "model_name": "VBoxModel",
          "model_module_version": "1.5.0",
          "state": {
            "_dom_classes": [
              "widget-interact"
            ],
            "_model_module": "@jupyter-widgets/controls",
            "_model_module_version": "1.5.0",
            "_model_name": "VBoxModel",
            "_view_count": null,
            "_view_module": "@jupyter-widgets/controls",
            "_view_module_version": "1.5.0",
            "_view_name": "VBoxView",
            "box_style": "",
            "children": [
              "IPY_MODEL_c5a5397f6afc48b48f662ffc2390b63b",
              "IPY_MODEL_4817bf836e8a491fb16969716682e419",
              "IPY_MODEL_ee57e7eb82c24bbbbb88f439fe541982"
            ],
            "layout": "IPY_MODEL_7dd0ab2adea74edfa822056ab72cc08b"
          }
        },
        "c5a5397f6afc48b48f662ffc2390b63b": {
          "model_module": "@jupyter-widgets/controls",
          "model_name": "FloatSliderModel",
          "model_module_version": "1.5.0",
          "state": {
            "_dom_classes": [],
            "_model_module": "@jupyter-widgets/controls",
            "_model_module_version": "1.5.0",
            "_model_name": "FloatSliderModel",
            "_view_count": null,
            "_view_module": "@jupyter-widgets/controls",
            "_view_module_version": "1.5.0",
            "_view_name": "FloatSliderView",
            "continuous_update": true,
            "description": "Diameter (m)",
            "description_tooltip": null,
            "disabled": false,
            "layout": "IPY_MODEL_cd7fc3b697694011a404153a1dba15df",
            "max": 1000,
            "min": 10,
            "orientation": "horizontal",
            "readout": true,
            "readout_format": ".2f",
            "step": 10,
            "style": "IPY_MODEL_fed28e71804449ad944bb76cbfa190a3",
            "value": 140
          }
        },
        "4817bf836e8a491fb16969716682e419": {
          "model_module": "@jupyter-widgets/controls",
          "model_name": "FloatSliderModel",
          "model_module_version": "1.5.0",
          "state": {
            "_dom_classes": [],
            "_model_module": "@jupyter-widgets/controls",
            "_model_module_version": "1.5.0",
            "_model_name": "FloatSliderModel",
            "_view_count": null,
            "_view_module": "@jupyter-widgets/controls",
            "_view_module_version": "1.5.0",
            "_view_name": "FloatSliderView",
            "continuous_update": true,
            "description": "Velocity (km/s)",
            "description_tooltip": null,
            "disabled": false,
            "layout": "IPY_MODEL_e890ddd8a489444aa01ab96493995842",
            "max": 70,
            "min": 5,
            "orientation": "horizontal",
            "readout": true,
            "readout_format": ".2f",
            "step": 1,
            "style": "IPY_MODEL_921c2cb5b0874e33966d838465eddd0a",
            "value": 19
          }
        },
        "ee57e7eb82c24bbbbb88f439fe541982": {
          "model_module": "@jupyter-widgets/output",
          "model_name": "OutputModel",
          "model_module_version": "1.0.0",
          "state": {
            "_dom_classes": [],
            "_model_module": "@jupyter-widgets/output",
            "_model_module_version": "1.0.0",
            "_model_name": "OutputModel",
            "_view_count": null,
            "_view_module": "@jupyter-widgets/output",
            "_view_module_version": "1.0.0",
            "_view_name": "OutputView",
            "layout": "IPY_MODEL_94d0713a3528407f8c817469c5d4ebbc",
            "msg_id": "",
            "outputs": [
              {
                "output_type": "stream",
                "name": "stdout",
                "text": [
                  "🌠 Asteroid Diameter: 140.0 m\n",
                  "🚀 Velocity: 19.0 km/s\n",
                  "💥 Energy: 7.78e+17 J\n",
                  "🌋 Crater Diameter: 2.08 km\n",
                  "🌍 Earthquake Magnitude: 8.73\n"
                ]
              },
              {
                "output_type": "display_data",
                "data": {
                  "text/plain": "<Figure size 640x480 with 1 Axes>",
                  "image/png": "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\n"
                },
                "metadata": {}
              }
            ]
          }
        },
        "7dd0ab2adea74edfa822056ab72cc08b": {
          "model_module": "@jupyter-widgets/base",
          "model_name": "LayoutModel",
          "model_module_version": "1.2.0",
          "state": {
            "_model_module": "@jupyter-widgets/base",
            "_model_module_version": "1.2.0",
            "_model_name": "LayoutModel",
            "_view_count": null,
            "_view_module": "@jupyter-widgets/base",
            "_view_module_version": "1.2.0",
            "_view_name": "LayoutView",
            "align_content": null,
            "align_items": null,
            "align_self": null,
            "border": null,
            "bottom": null,
            "display": null,
            "flex": null,
            "flex_flow": null,
            "grid_area": null,
            "grid_auto_columns": null,
            "grid_auto_flow": null,
            "grid_auto_rows": null,
            "grid_column": null,
            "grid_gap": null,
            "grid_row": null,
            "grid_template_areas": null,
            "grid_template_columns": null,
            "grid_template_rows": null,
            "height": null,
            "justify_content": null,
            "justify_items": null,
            "left": null,
            "margin": null,
            "max_height": null,
            "max_width": null,
            "min_height": null,
            "min_width": null,
            "object_fit": null,
            "object_position": null,
            "order": null,
            "overflow": null,
            "overflow_x": null,
            "overflow_y": null,
            "padding": null,
            "right": null,
            "top": null,
            "visibility": null,
            "width": null
          }
        },
        "cd7fc3b697694011a404153a1dba15df": {
          "model_module": "@jupyter-widgets/base",
          "model_name": "LayoutModel",
          "model_module_version": "1.2.0",
          "state": {
            "_model_module": "@jupyter-widgets/base",
            "_model_module_version": "1.2.0",
            "_model_name": "LayoutModel",
            "_view_count": null,
            "_view_module": "@jupyter-widgets/base",
            "_view_module_version": "1.2.0",
            "_view_name": "LayoutView",
            "align_content": null,
            "align_items": null,
            "align_self": null,
            "border": null,
            "bottom": null,
            "display": null,
            "flex": null,
            "flex_flow": null,
            "grid_area": null,
            "grid_auto_columns": null,
            "grid_auto_flow": null,
            "grid_auto_rows": null,
            "grid_column": null,
            "grid_gap": null,
            "grid_row": null,
            "grid_template_areas": null,
            "grid_template_columns": null,
            "grid_template_rows": null,
            "height": null,
            "justify_content": null,
            "justify_items": null,
            "left": null,
            "margin": null,
            "max_height": null,
            "max_width": null,
            "min_height": null,
            "min_width": null,
            "object_fit": null,
            "object_position": null,
            "order": null,
            "overflow": null,
            "overflow_x": null,
            "overflow_y": null,
            "padding": null,
            "right": null,
            "top": null,
            "visibility": null,
            "width": null
          }
        },
        "fed28e71804449ad944bb76cbfa190a3": {
          "model_module": "@jupyter-widgets/controls",
          "model_name": "SliderStyleModel",
          "model_module_version": "1.5.0",
          "state": {
            "_model_module": "@jupyter-widgets/controls",
            "_model_module_version": "1.5.0",
            "_model_name": "SliderStyleModel",
            "_view_count": null,
            "_view_module": "@jupyter-widgets/base",
            "_view_module_version": "1.2.0",
            "_view_name": "StyleView",
            "description_width": "",
            "handle_color": null
          }
        },
        "e890ddd8a489444aa01ab96493995842": {
          "model_module": "@jupyter-widgets/base",
          "model_name": "LayoutModel",
          "model_module_version": "1.2.0",
          "state": {
            "_model_module": "@jupyter-widgets/base",
            "_model_module_version": "1.2.0",
            "_model_name": "LayoutModel",
            "_view_count": null,
            "_view_module": "@jupyter-widgets/base",
            "_view_module_version": "1.2.0",
            "_view_name": "LayoutView",
            "align_content": null,
            "align_items": null,
            "align_self": null,
            "border": null,
            "bottom": null,
            "display": null,
            "flex": null,
            "flex_flow": null,
            "grid_area": null,
            "grid_auto_columns": null,
            "grid_auto_flow": null,
            "grid_auto_rows": null,
            "grid_column": null,
            "grid_gap": null,
            "grid_row": null,
            "grid_template_areas": null,
            "grid_template_columns": null,
            "grid_template_rows": null,
            "height": null,
            "justify_content": null,
            "justify_items": null,
            "left": null,
            "margin": null,
            "max_height": null,
            "max_width": null,
            "min_height": null,
            "min_width": null,
            "object_fit": null,
            "object_position": null,
            "order": null,
            "overflow": null,
            "overflow_x": null,
            "overflow_y": null,
            "padding": null,
            "right": null,
            "top": null,
            "visibility": null,
            "width": null
          }
        },
        "921c2cb5b0874e33966d838465eddd0a": {
          "model_module": "@jupyter-widgets/controls",
          "model_name": "SliderStyleModel",
          "model_module_version": "1.5.0",
          "state": {
            "_model_module": "@jupyter-widgets/controls",
            "_model_module_version": "1.5.0",
            "_model_name": "SliderStyleModel",
            "_view_count": null,
            "_view_module": "@jupyter-widgets/base",
            "_view_module_version": "1.2.0",
            "_view_name": "StyleView",
            "description_width": "",
            "handle_color": null
          }
        },
        "94d0713a3528407f8c817469c5d4ebbc": {
          "model_module": "@jupyter-widgets/base",
          "model_name": "LayoutModel",
          "model_module_version": "1.2.0",
          "state": {
            "_model_module": "@jupyter-widgets/base",
            "_model_module_version": "1.2.0",
            "_model_name": "LayoutModel",
            "_view_count": null,
            "_view_module": "@jupyter-widgets/base",
            "_view_module_version": "1.2.0",
            "_view_name": "LayoutView",
            "align_content": null,
            "align_items": null,
            "align_self": null,
            "border": null,
            "bottom": null,
            "display": null,
            "flex": null,
            "flex_flow": null,
            "grid_area": null,
            "grid_auto_columns": null,
            "grid_auto_flow": null,
            "grid_auto_rows": null,
            "grid_column": null,
            "grid_gap": null,
            "grid_row": null,
            "grid_template_areas": null,
            "grid_template_columns": null,
            "grid_template_rows": null,
            "height": null,
            "justify_content": null,
            "justify_items": null,
            "left": null,
            "margin": null,
            "max_height": null,
            "max_width": null,
            "min_height": null,
            "min_width": null,
            "object_fit": null,
            "object_position": null,
            "order": null,
            "overflow": null,
            "overflow_x": null,
            "overflow_y": null,
            "padding": null,
            "right": null,
            "top": null,
            "visibility": null,
            "width": null
          }
        },
        "95e7e613bb1a4da8a24f68029729fff2": {
          "model_module": "@jupyter-widgets/controls",
          "model_name": "VBoxModel",
          "model_module_version": "1.5.0",
          "state": {
            "_dom_classes": [
              "widget-interact"
            ],
            "_model_module": "@jupyter-widgets/controls",
            "_model_module_version": "1.5.0",
            "_model_name": "VBoxModel",
            "_view_count": null,
            "_view_module": "@jupyter-widgets/controls",
            "_view_module_version": "1.5.0",
            "_view_name": "VBoxView",
            "box_style": "",
            "children": [
              "IPY_MODEL_7956c1e595e6463cab64c28712a5e2e9",
              "IPY_MODEL_96a0f9310eb04cdeb35ebae01eb7bf38",
              "IPY_MODEL_9e00e7da095d4af58a8e216f030d260d",
              "IPY_MODEL_a429b0ba9c99469bbab69e2a13d5a0e7"
            ],
            "layout": "IPY_MODEL_96d62cb9f91d42d29053b901fc906d98"
          }
        },
        "7956c1e595e6463cab64c28712a5e2e9": {
          "model_module": "@jupyter-widgets/controls",
          "model_name": "FloatSliderModel",
          "model_module_version": "1.5.0",
          "state": {
            "_dom_classes": [],
            "_model_module": "@jupyter-widgets/controls",
            "_model_module_version": "1.5.0",
            "_model_name": "FloatSliderModel",
            "_view_count": null,
            "_view_module": "@jupyter-widgets/controls",
            "_view_module_version": "1.5.0",
            "_view_name": "FloatSliderView",
            "continuous_update": true,
            "description": "diameter_m",
            "description_tooltip": null,
            "disabled": false,
            "layout": "IPY_MODEL_a1a62bfe79734f15b72ae688f49f0baa",
            "max": 1000,
            "min": 10,
            "orientation": "horizontal",
            "readout": true,
            "readout_format": ".2f",
            "step": 10,
            "style": "IPY_MODEL_2792b13c720c43b29644e924b7f14e64",
            "value": 140
          }
        },
        "96a0f9310eb04cdeb35ebae01eb7bf38": {
          "model_module": "@jupyter-widgets/controls",
          "model_name": "FloatSliderModel",
          "model_module_version": "1.5.0",
          "state": {
            "_dom_classes": [],
            "_model_module": "@jupyter-widgets/controls",
            "_model_module_version": "1.5.0",
            "_model_name": "FloatSliderModel",
            "_view_count": null,
            "_view_module": "@jupyter-widgets/controls",
            "_view_module_version": "1.5.0",
            "_view_name": "FloatSliderView",
            "continuous_update": true,
            "description": "velocity_kmps",
            "description_tooltip": null,
            "disabled": false,
            "layout": "IPY_MODEL_f077ada9e3af4f8799cf8405a78eb1d0",
            "max": 70,
            "min": 5,
            "orientation": "horizontal",
            "readout": true,
            "readout_format": ".2f",
            "step": 1,
            "style": "IPY_MODEL_bbe9b19df2554a3e9e0de4ba7144c594",
            "value": 19
          }
        },
        "9e00e7da095d4af58a8e216f030d260d": {
          "model_module": "@jupyter-widgets/controls",
          "model_name": "FloatSliderModel",
          "model_module_version": "1.5.0",
          "state": {
            "_dom_classes": [],
            "_model_module": "@jupyter-widgets/controls",
            "_model_module_version": "1.5.0",
            "_model_name": "FloatSliderModel",
            "_view_count": null,
            "_view_module": "@jupyter-widgets/controls",
            "_view_module_version": "1.5.0",
            "_view_name": "FloatSliderView",
            "continuous_update": true,
            "description": "Deflect %",
            "description_tooltip": null,
            "disabled": false,
            "layout": "IPY_MODEL_b902935e21e14440a558eb3eacd2e65c",
            "max": 50,
            "min": 1,
            "orientation": "horizontal",
            "readout": true,
            "readout_format": ".2f",
            "step": 1,
            "style": "IPY_MODEL_73aaf325bc3546fa8fa19411499723e4",
            "value": 10
          }
        },
        "a429b0ba9c99469bbab69e2a13d5a0e7": {
          "model_module": "@jupyter-widgets/output",
          "model_name": "OutputModel",
          "model_module_version": "1.0.0",
          "state": {
            "_dom_classes": [],
            "_model_module": "@jupyter-widgets/output",
            "_model_module_version": "1.0.0",
            "_model_name": "OutputModel",
            "_view_count": null,
            "_view_module": "@jupyter-widgets/output",
            "_view_module_version": "1.0.0",
            "_view_name": "OutputView",
            "layout": "IPY_MODEL_9dcecf51b8dd4243bb098f9740a748b1",
            "msg_id": "",
            "outputs": [
              {
                "output_type": "stream",
                "name": "stdout",
                "text": [
                  "💥 Original Energy: 7.78e+17 J\n",
                  "🛡️ Deflected Energy: 6.30e+17 J\n",
                  "🌋 Crater Size: 2.08 km → 1.97 km\n"
                ]
              },
              {
                "output_type": "display_data",
                "data": {
                  "text/plain": "<Figure size 640x480 with 1 Axes>",
                  "image/png": "iVBORw0KGgoAAAANSUhEUgAAAkAAAAGzCAYAAADHdKgcAAAAOnRFWHRTb2Z0d2FyZQBNYXRwbG90bGliIHZlcnNpb24zLjEwLjAsIGh0dHBzOi8vbWF0cGxvdGxpYi5vcmcvlHJYcgAAAAlwSFlzAAAPYQAAD2EBqD+naQAAU65JREFUeJzt3XlYVGX/BvB7QJZBYUSUzQXQzB1ITUTNFcF9eS0FMxAUrbQ0Uotc0PQVszK1LLJEzBRN7TUrQhG3TNTcs9xQ1FTAHWQfmOf3RzE/xwEdxhlm9Nyf65qr5jnPPOd7OBzm9qwyIYQAERERkYRYmLoAIiIiourGAERERESSwwBEREREksMARERERJLDAERERESSwwBEREREksMARERERJLDAERERESSwwBEREREksMARPSEmD17NmQymanLMIi8vDyMHTsWrq6ukMlkmDx5sqlLMpns7Gy8+OKLcHJygkwmw+LFi01dklEkJyfD19cXtra2kMlkuHv3LkaPHg1PT89qr+XixYuQyWRISEio9nmT+WAAIrN3/vx5jB8/Ho0bN4atrS0cHBzQuXNnLFmyBIWFhQad1/z587F582aDjvkoeXl5iImJQevWrVGzZk04OTnB19cXkyZNwrVr16q1lgeNHj0aMplM/apRowYaNmyI4OBg/PXXX3qPO3/+fCQkJOC1117D6tWr8corrxiw6sdz5coVBAcHw9nZGQ4ODvDz89P7i7KsrAzu7u6QyWT45ZdfKuzz1ltvYevWrYiOjsbq1avRp08fJCUlYfbs2fovhB4eXNe1atVC48aN8eKLL2LTpk1QqVR6j33r1i0MHz4ccrkcy5Ytw+rVq1GzZk0DVl+xtWvXPrWBkh6fjM8CI3P2888/46WXXoKNjQ1CQ0PRunVrlJSUYO/evdi0aRNGjx6N5cuXG2x+tWrVwosvvlht/zJUKpXw8/PD6dOnERYWBl9fX+Tl5eHPP//Ejz/+iA0bNqB79+4AgNLSUpSWlsLW1rZaagP++VJct24dvv76a3UN58+fR1xcHJRKJf766y+4u7tXedyOHTuiRo0a2Lt3r6FLfiwqlQrt27fH2bNnMXnyZLi7u+PgwYPIzs6uNMA8TEpKCgIDA+Hp6YnOnTvj22+/1erj6uqKgIAAjWkTJ07EsmXLUJ1/nh9c14WFhbh06RJ+/PFHnDhxAt27d8cPP/wABweHKo+dnJyMvn37IiUlBQEBARrz3LVrFy5evGioxdAwYMAAnDx5Umt8IQSKi4thZWUFS0tLo8ybzF8NUxdAVJmMjAwEBwfDw8MDO3bsgJubm3rahAkTkJ6ejp9//rnSz6tUKpSUlFRrYKhIUVERrK2tYWGhvcN18+bNOHr0KNasWYORI0dqfa6kpET9vkaNGqhRo/o32Ro1amDUqFEabR07dsSAAQPw888/IzIysspjXr9+HS1btjRUiSgtLYVKpYK1tfVjjXPmzBkcPXoUCxcuxNSpUwEAr7/+OoqLi/Ua79tvv0Xbtm0RFhaG9957D/n5+Vp7Pq5fv47atWs/Vt26EEKgqKgIcrm80j4Vret58+ZhwYIFiI6ORmRkJNavX1/leV+/fh0AqmU5dSGTyUz+d4HMgCAyU6+++qoAIH777Ted+gMQEyZMEN9++61o2bKlqFGjhvjf//4nhBDiww8/FP7+/qJOnTrC1tZWtG3bVmzYsEHr8w++wsLC1NOvXLkiwsPDhbOzs7C2thYtW7YUK1as0Bhj586dAoBITEwU06dPF+7u7kImk4k7d+5UWHNsbKwAIC5evPjI5YuJiRH3b7JhYWEV1gxAxMTEqPsVFRWJWbNmiSZNmghra2vRoEEDMXXqVFFUVPTIeYaFhYmaNWtqtR86dEgAEPHx8Rrtd+7cEZMmTRINGjQQ1tbWokmTJmLBggWirKxM4+fz4CsjI0MIIUR2draIiIgQzs7OwsbGRnh7e4uEhASNeWRkZAgA4sMPPxSffPKJaNy4sbCwsBBHjx4VQghx6tQpMWzYMOHo6ChsbGxEu3btxA8//PDIZRVCiNOnTwsA4oMPPtCp/8MUFBQIe3t7sXDhQpGZmSksLCzEmjVr1NNXrlxZ6e9cRe3lysrKxCeffCJatmwpbGxshLOzsxg3bpy4ffu2xvw9PDxE//79RXJysmjXrp2wsbERn3zySaX1VrauywUGBgqZTCbOnDmj0Z6UlCS6dOki7OzsRK1atUS/fv3EyZMn1dO7detW6XYVFhYmPDw8NMbTdfnK5921a1dRq1YtYW9vL9q3b6/+GVc03/J5lf8OrVy5UmO81NRU9bIoFAoxaNAg8ddff2n0Kd8Oz507J8LCwoRCoRAODg5i9OjRIj8/v9KfH5kf7gEis/Xjjz+icePG6NSpk86f2bFjB7777jtMnDgRdevWVZ9guWTJEgwaNAgvv/wySkpKsG7dOrz00kv46aef0L9/fwDA6tWrMXbsWHTo0AHjxo0DADRp0gTAPyeqduzYETKZDBMnTkS9evXwyy+/YMyYMcjNzdU6iXfu3LmwtrbGlClTUFxcXOmeCQ8PDwDAN998gxkzZlTpJOfx48drHE4A/jnUsGbNGjg7OwP4Zy/YoEGDsHfvXowbNw4tWrTAH3/8gU8++QRnz57V+XynmzdvAvjnnJYLFy7gnXfegZOTEwYMGKDuU1BQgG7duuHq1asYP348GjVqhH379iE6OhqZmZlYvHgxWrRogdWrV+Ott95CgwYN8PbbbwMA6tWrh8LCQnTv3h3p6emYOHEivLy8sGHDBowePRp3797FpEmTNGpauXIlioqKMG7cONjY2KBOnTr4888/0blzZ9SvXx/vvvsuatasie+++w5DhgzBpk2bMHTo0IcuZ7NmzdCpUyd8/PHHCA4ORqNGjXT6+VRky5YtyMvLQ3BwMFxdXdG9e3eNPX1du3ZVn//Uu3dvhIaGAvjnd+7atWtISUnB6tWrtcYdP348EhISEB4ejjfffBMZGRn47LPPcPToUfz222+wsrJS9z1z5gxCQkIwfvx4REZGolmzZnovzyuvvIJt27YhJSUFzz77LIB/tpmwsDAEBQXhgw8+QEFBAb744gt06dIFR48ehaenJ6ZPn45mzZph+fLleP/99+Hl5aXeriqi6/IlJCQgIiICrVq1QnR0NGrXro2jR48iOTkZI0eOxPTp05GTk4MrV67gk08+AfDPIe7KbN++HX379kXjxo0xe/ZsFBYW4tNPP0Xnzp1x5MgRrZO1hw8fDi8vL8TGxuLIkSP4+uuv4ezsjA8++EDvnzFVM1MnMKKK5OTkCABi8ODBOn8GgLCwsBB//vmn1rSCggKN9yUlJaJ169aiZ8+eGu01a9bU2OtTbsyYMcLNzU3cvHlToz04OFgoFAr1+OV7OBo3bqw1z4oUFBSIZs2aqf91Onr0aLFixQqRnZ2t1ffBPUAPOnfunFAoFKJ3796itLRUCCHE6tWrhYWFhfj11181+sbFxem0d62yvRH169cXhw8f1ug7d+5cUbNmTXH27FmN9nfffVdYWlqKy5cvq9vK907cb/HixQKA+Pbbb9VtJSUlwt/fX9SqVUvk5uYKIf7/X+8ODg7i+vXrGmP06tVLtGnTRmPvlkqlEp06dRJNmzZ96LIKIURWVpbw8fER1tbWolmzZlrjV8WAAQNE586d1e+XL18uatSooTUm/t1zeb8JEyZUuK5//fVXAUBjT5IQQiQnJ2u1e3h4CAAiOTlZp3oftQfo6NGjAoB46623hBBC3Lt3T9SuXVtERkZq9MvKyhIKhUKjvXxv1++//641z/v3AOm6fHfv3hX29vbCz89PFBYWavRVqVTq/+/fv7/WHiYhKt4D5OvrK5ydncWtW7fUbcePHxcWFhYiNDRU3Va+HUZERGiMOXToUOHk5KQ1LzJfvAqMzFJubi4AwN7evkqf69atW4Xnltx/3sOdO3eQk5ODF154AUeOHHnkmEIIbNq0CQMHDoQQAjdv3lS/goKCkJOTozVOWFjYQ8+1uL+uAwcOqM83SUhIwJgxY+Dm5oY33nhD53NP8vPzMXToUDg6OiIxMVF9YueGDRvQokULNG/eXKPunj17AgB27tz5yLFtbW2RkpKClJQUbN26FV9++SVq1aqFfv364ezZs+p+GzZswAsvvABHR0eNeQUEBKCsrAx79ux56HySkpLg6uqKkJAQdZuVlRXefPNN5OXlYffu3Rr9hw0bhnr16qnf3759Gzt27MDw4cNx79499fxv3bqFoKAgnDt3DlevXq10/qWlpRg0aBBq1qyJP/74A/fu3UNgYCDu3r2r7pOYmAiZTIbz588/dFlu3bqFrVu3aizLsGHDIJPJ8N133z30sw+zYcMGKBQK9O7dW+Nn3K5dO9SqVUtrfXp5eSEoKEjv+d2vfO/JvXv3APxzgvfdu3cREhKiUYulpSX8/Px0+t16kK7Ll5KSgnv37uHdd9/VOpdHn1tFZGZm4tixYxg9ejTq1Kmjbvf29kbv3r2RlJSk9ZlXX31V4/0LL7yAW7duqf92kfnjITAyS+VXmpT/sdWVl5dXhe0//fQT5s2bh2PHjmmECl3+WN64cQN3797F8uXLK73irPwkz0fVURGFQoGFCxdi4cKFuHTpElJTU/HRRx/hs88+g0KhwLx58x45RmRkJM6fP499+/bByclJ3X7u3DmcOnVKIyg8rO6KWFpaah1q69evH5o2bYro6Ghs2rRJPa8TJ07oPa9Lly6hadOmWieLt2jRQj39fg/+jNPT0yGEwMyZMzFz5sxKa6hfv36F0zZu3IiDBw/i4MGDePbZZ7F161a88MIL6NevH1JSUlCzZk2cPHkS9erVe+T6Xb9+PZRKJZ577jmkp6er2/38/LBmzRpMmDDhoZ+vzLlz55CTk6M+xFnR8t2vKr+Hj5KXlwfg//9Rcu7cOQBQh+kH6XO1mK7LVx5AW7duXeV5VKT8d6uiQ4QtWrTA1q1btU5gf/DwqKOjI4B//oGlz7JT9WMAIrPk4OAAd3d3nDx5skqfq2ivy6+//opBgwaha9eu+Pzzz+Hm5gYrKyusXLkSa9eufeSY5fc/GTVqFMLCwirs4+3t/cg6dOHh4YGIiAgMHToUjRs3xpo1ax4ZgJYsWYLExER8++238PX11aq9TZs2WLRoUYWfbdiwoV51NmjQAM2aNdPYq6NSqdC7d29Mmzatws+UnzdiKA/+jMvX05QpUyrd6/HMM89UOt6+fftQo0YNtG/fHsA/X65btmxBYGAgBg8ejO+//x6rVq1CSEhIhVf03W/NmjUAgM6dO1c4/cKFC2jcuPFDx6iISqWCs7OzevwHPRg+9f09rEj5tlj+Myz/ea9evRqurq5a/fW5YrGqy2dKlV0+L3hnmScGAxCZrQEDBmD58uVIS0uDv7+/3uNs2rQJtra22Lp1K2xsbNTtK1eu1Opb0R6hevXqwd7eHmVlZVp7QozF0dERTZo0eWQA/PXXXzFlyhRMnjwZL7/8stb0Jk2a4Pjx4+jVq5fB7yJdWlqq3itQPq+8vDy9f0YeHh44ceIEVCqVRsA4ffq0evrDlAcKKysrvWqQyWQoLS1FZmam+t5GL7zwAtatW4dhw4bBx8cHOTk56sOVlcnIyMC+ffswceJEdOvWTWOaSqXCK6+8grVr12LGjBkPraUiTZo0wfbt29G5c2eDhhtdrF69GjKZDL1791bXAgDOzs4G2y50Xb7yeZ88efKhoVbX3/ny360zZ85oTTt9+jTq1q1bLTdupOrFc4DIbE2bNg01a9bE2LFjkZ2drTX9/PnzWLJkySPHsbS0hEwmQ1lZmbrt4sWLFV4BVbNmTY1zPso/P2zYMGzatKnCQHLjxo1HL0wljh8/rr7C6n6XLl3CX3/99dCrdjIzMzF8+HB06dIFH374YYV9hg8fjqtXr+Krr77SmlZYWIj8/Hy96j579izOnDkDHx8fjXmlpaVh69atWv3v3r2L0tLSh47Zr18/ZGVladxnprS0FJ9++ilq1aqlFSYe5OzsjO7du+PLL79EZmam1vRHrafyL/FZs2ZptA8ePBhjx47FxYsX8fzzz6NBgwYPHad878W0adPw4osvaryGDx+Obt26VbqHo1z5l+2Dv4vDhw9HWVkZ5s6dq/WZ0tJSrf6GsmDBAmzbtg0jRoxA06ZNAQBBQUFwcHDA/PnzoVQqtT6jz3ah6/IFBgbC3t4esbGxKCoq0uh3/x6YmjVrIicn55HzdXNzg6+vL1atWqXxMzx58iS2bduGfv36VXlZyPxxDxCZrSZNmmDt2rUYMWIEWrRooXEn6H379qkvkX6U/v37Y9GiRejTpw9GjhyJ69evY9myZXjmmWdw4sQJjb7t2rXD9u3bsWjRIri7u8PLywt+fn5YsGABdu7cCT8/P0RGRqJly5a4ffs2jhw5gu3bt+P27dt6LWNKSgpiYmIwaNAgdOzYEbVq1cKFCxcQHx+P4uLihz4O4c0338SNGzcwbdo0rFu3TmOat7c3vL298corr+C7777Dq6++ip07d6Jz584oKyvD6dOn8d1332Hr1q3qQz6VKS0tVd+lWKVS4eLFi4iLi4NKpUJMTIy639SpU7FlyxYMGDAAo0ePRrt27ZCfn48//vgDGzduxMWLF1G3bt1K5zNu3Dh8+eWXGD16NA4fPgxPT09s3LgRv/32GxYvXqzTCfHLli1Dly5d0KZNG0RGRqJx48bIzs5GWloarly5guPHj1f62QEDBmDw4MFYsWIF0tPTMWTIENjY2CA5ORk//vgjunbtip07d2LWrFl4//33Kx1nzZo18PX1rfTw4qBBg/DGG2/gyJEjaNu2bYV92rVrB+CfdRwUFARLS0sEBwejW7duGD9+PGJjY3Hs2DEEBgbCysoK586dw4YNG7BkyRK8+OKLj/w5Veb+dV1UVIRLly5hy5YtOHHiBHr06KFxDpyDgwO++OILvPLKK2jbti2Cg4NRr149XL58GT///DM6d+6Mzz77rErz13X5HBwc8Mknn2Ds2LF4/vnnMXLkSDg6OuL48eMoKCjAqlWr1D/H9evXIyoqCs8//zxq1aqFgQMHVjjvDz/8EH379oW/vz/GjBmjvgxeoVBU+2NJqJqY9Bo0Ih2cPXtWREZGCk9PT2FtbS3s7e1F586dxaeffqpxuTMquJy43IoVK0TTpk2FjY2NaN68uVi5cmWFl5WfPn1adO3aVcjlcq0bIWZnZ4sJEyaIhg0bCisrK+Hq6ip69eolli9fru5Tfhn8gzdZrMyFCxfErFmzRMeOHYWzs7OoUaOGqFevnujfv7/YsWOHRt8H663oRm/lr/tvhFhSUiI++OAD0apVK2FjYyMcHR1Fu3btxJw5c0ROTs5D66voMngHBwfRq1cvsX37dq3+9+7dE9HR0eKZZ54R1tbWom7duqJTp07io48+EiUlJep+FV0GL8Q/P+Pw8HBRt25dYW1tLdq0aaN1s7r7b4RYkfPnz4vQ0FDh6uoqrKysRP369cWAAQPExo0bH7qsQghRWloqPvzwQ9GqVSthbW0tFAqFCAoKEtu2bRNCCDFy5EgBQKxatarCzx8+fFgAEDNnzqx0HhcvXtS4nLyi39vS0lLxxhtviHr16gmZTKb1e7p8+XLRrl07IZfLhb29vWjTpo2YNm2auHbtmrpPZT/jyjy4ru3s7ISnp6cYNmyY2Lhxo/pmlg/auXOnCAoKEgqFQtja2oomTZqI0aNHi0OHDqn76HoZfFWWTwghtmzZIjp16iTkcrlwcHAQHTp0EImJierpeXl5YuTIkaJ27do63Qhx+/btonPnzurxBg4cWOmNEG/cuKHRXr6M5Tf1JPPHZ4ERERGR5PAcICIiIpIcBiAiIiKSHAYgIiIikhwGICIiIpIcBiAiIiKSHAYgIiIikhzeCLECKpUK165dg729vcEfH0BERETGIYTAvXv34O7u/shn9jEAVeDatWt6PySSiIiITOvvv/9+5GNrGIAqUH7L/b///hsODg4mroaMSalUYtu2bepb7hPR04fbuXTk5uaiYcOGOj06hwGoAuWHvRwcHBiAnnJKpRJ2dnZwcHDgH0aipxS3c+nR5fQVngRNREREksMARERERJLDAERERESSwwBEREREksMARERERJLDAERERESSwwBEREREksMARERERJLDAERERESSwwBEREREksMARERERJLDAERERESSwwBEREREksMARERERJJTw9QFSJJMZuoKqJxcDiQmAgoFUFho6moIAIQwdQVEJAHcA0RERESSwwBEREREksMARERERJLDAERERESSwwBEREREksMARERERJLDAERERESSwwBEREREksMARERERJJj0gAUGxuL559/Hvb29nB2dsaQIUNw5syZR35uw4YNaN68OWxtbdGmTRskJSVpTBdCYNasWXBzc4NcLkdAQADOnTtnrMUgIiKiJ4xJA9Du3bsxYcIE7N+/HykpKVAqlQgMDER+fn6ln9m3bx9CQkIwZswYHD16FEOGDMGQIUNw8uRJdZ+FCxdi6dKliIuLw4EDB1CzZk0EBQWhqKioOhaLiIiIzJxMCPN58M6NGzfg7OyM3bt3o2vXrhX2GTFiBPLz8/HTTz+p2zp27AhfX1/ExcVBCAF3d3e8/fbbmDJlCgAgJycHLi4uSEhIQHBw8CPryM3NhUKhQE5ODhwcHAyzcPfjs8DMhlIuR1JiIvqFhMCKzwIzD+bzJ4meEkqlEklJSejXrx+srKxMXQ4ZUVW+v83qYag5OTkAgDp16lTaJy0tDVFRURptQUFB2Lx5MwAgIyMDWVlZCAgIUE9XKBTw8/NDWlpahQGouLgYxcXF6ve5ubkA/tlolEql3stTKbnc8GOSXpT/rgsl14n5MMY2R5JW/nfcKH/PyaxUZR2bTQBSqVSYPHkyOnfujNatW1faLysrCy4uLhptLi4uyMrKUk8vb6usz4NiY2MxZ84crfZt27bBzs6uSsuhk8REw49JjyUlPt7UJVC5B87pIzKUlJQUU5dARlZQUKBzX7MJQBMmTMDJkyexd+/eap93dHS0xl6l3NxcNGzYEIGBgcY5BKZQGH5M0otSLkdKfDx6R0TwEJi5+HdPMJGhKJVKpKSkoHfv3jwE9pQrP4KjC7MIQBMnTsRPP/2EPXv2oEGDBg/t6+rqiuzsbI227OxsuLq6qqeXt7m5uWn08fX1rXBMGxsb2NjYaLVbWVkZZ2PhF63ZsSosZAAyF/yCIiMx2t90MhtVWb8mvQpMCIGJEyfif//7H3bs2AEvL69Hfsbf3x+pqakabSkpKfD39wcAeHl5wdXVVaNPbm4uDhw4oO5DRERE0mbSPUATJkzA2rVr8cMPP8De3l59jo5CoYD835NSQ0NDUb9+fcTGxgIAJk2ahG7duuHjjz9G//79sW7dOhw6dAjLly8HAMhkMkyePBnz5s1D06ZN4eXlhZkzZ8Ld3R1DhgwxyXISkfTI5vBqT3Mht5Aj0TsRigUKFKq4p9cciBjTX+1p0gD0xRdfAAC6d++u0b5y5UqMHj0aAHD58mVYWPz/jqpOnTph7dq1mDFjBt577z00bdoUmzdv1jhxetq0acjPz8e4ceNw9+5ddOnSBcnJybC1tTX6MhEREZH5M2kA0uUWRLt27dJqe+mll/DSSy9V+hmZTIb3338f77///uOUR0RERE8pPguMiIiIJIcBiIiIiCSHAYiIiIgkhwGIiIiIJIcBiIiIiCSHAYiIiIgkhwGIiIiIJIcBiIiIiCSHAYiIiIgkhwGIiIiIJIcBiIiIiCSHAYiIiIgkhwGIiIiIJIcBiIiIiCSHAYiIiIgkhwGIiIiIJIcBiIiIiCSHAYiIiIgkhwGIiIiIJIcBiIiIiCSHAYiIiIgkhwGIiIiIJIcBiIiIiCSHAYiIiIgkhwGIiIiIJIcBiIiIiCSHAYiIiIgkhwGIiIiIJIcBiIiIiCSHAYiIiIgkhwGIiIiIJMekAWjPnj0YOHAg3N3dIZPJsHnz5of2Hz16NGQymdarVatW6j6zZ8/Wmt68eXMjLwkRERE9SUwagPLz8+Hj44Nly5bp1H/JkiXIzMxUv/7++2/UqVMHL730kka/Vq1aafTbu3evMconIiKiJ1QNU868b9++6Nu3r879FQoFFAqF+v3mzZtx584dhIeHa/SrUaMGXF1dDVYnERERPV1MGoAe14oVKxAQEAAPDw+N9nPnzsHd3R22trbw9/dHbGwsGjVqVOk4xcXFKC4uVr/Pzc0FACiVSiiVSsMXLpcbfkzSi/LfdaHkOjEfxtjmTEBuwd8pc1G+LrhOzIdRvlurOK5MCCGMUkUVyWQy/O9//8OQIUN06n/t2jU0atQIa9euxfDhw9Xtv/zyC/Ly8tCsWTNkZmZizpw5uHr1Kk6ePAl7e/sKx5o9ezbmzJmj1b527VrY2dnptTxERERUvQoKCjBy5Ejk5OTAwcHhoX2f2AAUGxuLjz/+GNeuXYO1tXWl/e7evQsPDw8sWrQIY8aMqbBPRXuAGjZsiJs3bz7yB6iX+w7jkWkp5XKkxMejd0QErAoLTV0OAUBOjqkrMAjFAm7n5kJuIUd863hEnIxAoYrbuTnIedc423lubi7q1q2rUwB6Ig+BCSEQHx+PV1555aHhBwBq166NZ599Funp6ZX2sbGxgY2NjVa7lZUVrKysHrteLfyiNTtWhYUMQObCGNucCfCL1vwUqgq5XsyEUb5bqzjuE3kfoN27dyM9Pb3SPTr3y8vLw/nz5+Hm5lYNlREREdGTwKQBKC8vD8eOHcOxY8cAABkZGTh27BguX74MAIiOjkZoaKjW51asWAE/Pz+0bt1aa9qUKVOwe/duXLx4Efv27cPQoUNhaWmJkJAQoy4LERERPTlMegjs0KFD6NGjh/p9VFQUACAsLAwJCQnIzMxUh6FyOTk52LRpE5YsWVLhmFeuXEFISAhu3bqFevXqoUuXLti/fz/q1atnvAUhIiKiJ4pJA1D37t3xsHOwExIStNoUCgUKCgoq/cy6desMURoRERE9xZ7Ic4CIiIiIHgcDEBEREUkOAxARERFJDgMQERERSQ4DEBEREUkOAxARERFJDgMQERERSQ4DEBEREUkOAxARERFJDgMQERERSQ4DEBEREUkOAxARERFJDgMQERERSQ4DEBEREUkOAxARERFJDgMQERERSQ4DEBEREUkOAxARERFJDgMQERERSQ4DEBEREUkOAxARERFJDgMQERERSQ4DEBEREUkOAxARERFJDgMQERERSQ4DEBEREUkOAxARERFJDgMQERERSQ4DEBEREUkOAxARERFJDgMQERERSY5JA9CePXswcOBAuLu7QyaTYfPmzQ/tv2vXLshkMq1XVlaWRr9ly5bB09MTtra28PPzw8GDB424FERERPSkqXIAOnXqFGJiYtCzZ080adIEbm5u8Pb2RlhYGNauXYvi4mKdx8rPz4ePjw+WLVtWpRrOnDmDzMxM9cvZ2Vk9bf369YiKikJMTAyOHDkCHx8fBAUF4fr161WaBxERET29dA5AR44cQUBAAJ577jns3bsXfn5+mDx5MubOnYtRo0ZBCIHp06fD3d0dH3zwgU5BqG/fvpg3bx6GDh1apaKdnZ3h6uqqfllY/P9iLFq0CJGRkQgPD0fLli0RFxcHOzs7xMfHV2keRERE9PSqoWvHYcOGYerUqdi4cSNq165dab+0tDQsWbIEH3/8Md577z1D1KjF19cXxcXFaN26NWbPno3OnTsDAEpKSnD48GFER0er+1pYWCAgIABpaWmVjldcXKwR2HJzcwEASqUSSqXS8Asglxt+TNKL8t91oeQ6MR/G2OZMQG7B3ylzUb4uuE7Mh1G+W6s4rs4B6OzZs7CysnpkP39/f/j7+xtl4dzc3BAXF4f27dujuLgYX3/9Nbp3744DBw6gbdu2uHnzJsrKyuDi4qLxORcXF5w+fbrScWNjYzFnzhyt9m3btsHOzs7gy4HERMOPSY8lhXsIzUdSkqkrMIhEb27n5ia+Nbdzc5FkpO28oKBA5746ByBdws/j9NdFs2bN0KxZM/X7Tp064fz58/jkk0+wevVqvceNjo5GVFSU+n1ubi4aNmyIwMBAODg4PFbNFVIoDD8m6UUplyMlPh69IyJgVVho6nIIAHJyTF2BQSgWcDs3F3ILOeJbxyPiZAQKVdzOzUHOu8bZzsuP4OhC5wD0oN9//x07d+7E9evXoVKpNKYtWrRI32GrrEOHDti7dy8AoG7durC0tER2drZGn+zsbLi6ulY6ho2NDWxsbLTaraysjBLkwC9as2NVWMgAZC6Msc2ZAL9ozU+hqpDrxUwY5bu1iuPqFYDmz5+PGTNmoFmzZnBxcYFMJlNPu///q8OxY8fg5uYGALC2tka7du2QmpqKIUOGAABUKhVSU1MxceLEaq2LiIiIzJdeAWjJkiWIj4/H6NGjH2vmeXl5SE9PV7/PyMjAsWPHUKdOHTRq1AjR0dG4evUqvvnmGwDA4sWL4eXlhVatWqGoqAhff/01duzYgW3btqnHiIqKQlhYGNq3b48OHTpg8eLFyM/PR3h4+GPVSkRERE8PvQKQhYWF+sqrx3Ho0CH06NFD/b78PJywsDAkJCQgMzMTly9fVk8vKSnB22+/jatXr8LOzg7e3t7Yvn27xhgjRozAjRs3MGvWLGRlZcHX1xfJyclaJ0YTERGRdMmEEKKqH1q4cCGuXbuGxYsXG6Ek08vNzYVCoUBOTo5xToKu5sOEVDmlXI6kxET0CwnhOUDmoup/ksySbA63c3Mht5Aj0TsRISdCeA6QmRAxxtnOq/L9rdceoClTpqB///5o0qQJWrZsqXXS0ffff6/PsERERETVQq8A9Oabb2Lnzp3o0aMHnJycqv3EZyIiIqLHoVcAWrVqFTZt2oT+/fsbuh4iIiIio9PrafB16tRBkyZNDF0LERERUbXQKwDNnj0bMTExVbrlNBEREZG50OsQ2NKlS3H+/Hm4uLjA09NT6yToI0eOGKQ4IiIiImPQKwCV32WZiIiI6EmkVwCKiYmpdJoetxUiIiIiqlZ6nQP04YcfVtheVlaGkSNHPlZBRERERMamdwBasWKFRltZWRmCg4Nx7NgxQ9RFREREZDR6HQL7+eefERgYCIVCgRdffBGlpaUYPnw4Tp8+jZ07dxq6RiIiIiKD0isAPf/889i0aROGDBkCa2trrFixAunp6di5cycfOkpERERmT69DYADQs2dPfPPNNxg2bBgyMjKwe/duhh8iIiJ6Iui8B+g///lPhe316tVD7dq1MW7cOHUbH4ZKRERE5kznAKRQKCpsDwoKMlgxRERERNVB5wC0cuVKY9ZBREREVG30PgeIiIiI6EmlcwDq06cP9u/f/8h+9+7dwwcffIBly5Y9VmFERERExqLzIbCXXnoJw4YNg0KhwMCBA9G+fXu4u7vD1tYWd+7cwV9//YW9e/ciKSkJ/fv3r/Ru0URERESmpnMAGjNmDEaNGoUNGzZg/fr1WL58OXJycgAAMpkMLVu2RFBQEH7//Xe0aNHCaAUTERERPa4q3QjRxsYGo0aNwqhRowAAOTk5KCwshJOTE6ysrIxSIBEREZGh6XUn6HIKhaLSy+OJiIiIzBWvAiMiIiLJYQAiIiIiyWEAIiIiIsmpcgAqKyvDnj17cPfuXSOUQ0RERGR8VQ5AlpaWCAwMxJ07d4xRDxEREZHR6XUIrHXr1rhw4YKhayEiIiKqFnoFoHnz5mHKlCn46aefkJmZidzcXI0XERERkTnT6z5A/fr1AwAMGjQIMplM3S6EgEwmQ1lZmWGqIyIiIjICvQLQzp07DV0HERERUbXRKwB169bN0HUQERERVRu97wP066+/YtSoUejUqROuXr0KAFi9ejX27t2r8xh79uzBwIED4e7uDplMhs2bNz+0//fff4/evXujXr16cHBwgL+/P7Zu3arRZ/bs2ZDJZBqv5s2bV3n5iIiI6OmlVwDatGkTgoKCIJfLceTIERQXFwP45+Go8+fP13mc/Px8+Pj4YNmyZTr137NnD3r37o2kpCQcPnwYPXr0wMCBA3H06FGNfq1atUJmZqb6VZVQRkRERE8/vQ6BzZs3D3FxcQgNDcW6devU7Z07d8a8efN0Hqdv377o27evzv0XL16s8X7+/Pn44Ycf8OOPP+K5555Tt9eoUQOurq46j0tERETSolcAOnPmDLp27arVrlAoqvUO0SqVCvfu3UOdOnU02s+dOwd3d3fY2trC398fsbGxaNSoUaXjFBcXq/diAVBfyq9UKqFUKg1fuFxu+DFJL8p/14WS68R8GGObMwG5BX+nzEX5uuA6MR9G+W6t4rh6BSBXV1ekp6fD09NTo33v3r1o3LixPkPq5aOPPkJeXh6GDx+ubvPz80NCQgKaNWuGzMxMzJkzBy+88AJOnjwJe3v7CseJjY3FnDlztNq3bdsGOzs7wxeemGj4MemxpMTHm7oEKpeUZOoKDCLRm9u5uYlvze3cXCQZaTsvKCjQua9eASgyMhKTJk1CfHw8ZDIZrl27hrS0NEyZMgUzZ87UZ8gqW7t2LebMmYMffvgBzs7O6vb7D6l5e3vDz88PHh4e+O677zBmzJgKx4qOjkZUVJT6fW5uLho2bIjAwEA4ODgYvniFwvBjkl6UcjlS4uPROyICVoWFpi6HACAnx9QVGIRiAbdzcyG3kCO+dTwiTkagUMXt3BzkvGuc7bwqN2PWKwC9++67UKlU6NWrFwoKCtC1a1fY2NhgypQpeOONN/QZskrWrVuHsWPHYsOGDQgICHho39q1a+PZZ59Fenp6pX1sbGxgY2Oj1W5lZQUrK6vHrlcLv2jNjlVhIQOQuTDGNmcC/KI1P4WqQq4XM2GU79YqjqvXVWAymQzTp0/H7du3cfLkSezfvx83btzA3Llz9RmuShITExEeHo7ExET079//kf3z8vJw/vx5uLm5Gb02IiIiejLoFYAiIiJw7949WFtbo2XLlujQoQNq1aqF/Px8RERE6DxOXl4ejh07hmPHjgEAMjIycOzYMVy+fBnAP4emQkND1f3Xrl2L0NBQfPzxx/Dz80NWVhaysrKQc98u8ylTpmD37t24ePEi9u3bh6FDh8LS0hIhISH6LCoRERE9hfQKQKtWrUJhBYcLCgsL8c033+g8zqFDh/Dcc8+pL2GPiorCc889h1mzZgEAMjMz1WEIAJYvX47S0lJMmDABbm5u6tekSZPUfa5cuYKQkBA0a9YMw4cPh5OTE/bv34969erps6hERET0FKrSOUC5ubkQQkAIgXv37sHW1lY9raysDElJSRonJD9K9+7dIYSodHpCQoLG+127dj1yzPvvS0RERERUkSoFoNq1a6sfL/Hss89qTZfJZBVeTk5ERERkTqoUgHbu3AkhBHr27IlNmzZp3IDQ2toaHh4ecHd3N3iRRERERIZUpQBU/hT4jIwMNGrUCDKZzChFERERERmTXidBe3h4YO/evY/9NHgiIiIiUzDp0+CJiIiITEGvAFT+NPivvvpK466LnTt3xpEjRwxWHBEREZEx6BWAzOVp8ERERET60CsAlT8N/kHV/TR4IiIiIn3oFYDKnwZ/4MAB9dPg16xZgylTpuC1114zdI1EREREBvVEPg2eiIiI6HHoFYDKnwY/depUpKenIy8vDy1btkStWrUMXR8RERGRwekVgMqVPw2eiIiI6EmiVwAqKirCp59+ip07d+L69etQqVQa03kpPBEREZkzvQLQmDFjsG3bNrz44ovo0KEDH4lBRERETxS9AtBPP/2EpKQkdO7c2dD1EBERERmdXpfB169fH/b29oauhYiIiKha6BWAPv74Y7zzzju4dOmSoeshIiIiMjq9DoG1b98eRUVFaNy4Mezs7DSeBwYAt2/fNkhxRERERMagVwAKCQnB1atXMX/+fLi4uPAkaCIiInqi6BWA9u3bh7S0NPj4+Bi6HiIiIiKj0+scoObNm6OwsNDQtRARERFVC70C0IIFC/D2229j165duHXrFnJzczVeREREROZMr0Ngffr0AQD06tVLo10IAZlMhrKyssevjIiIiMhI9ApAO3fuNHQdRERERNVGrwDUrVs3Q9dBREREVG0e62nwBQUFuHz5MkpKSjTavb29H6soIiIiImPSKwDduHED4eHh+OWXXyqcznOAiIiIyJzpdRXY5MmTcffuXRw4cAByuRzJyclYtWoVmjZtii1bthi6RiIiIiKD0msP0I4dO/DDDz+gffv2sLCwgIeHB3r37g0HBwfExsaif//+hq6TiIiIyGD02gOUn58PZ2dnAICjoyNu3LgBAGjTpg2OHDliuOqIiIiIjECvANSsWTOcOXMGAODj44Mvv/wSV69eRVxcHNzc3AxaIBEREZGh6RWAJk2ahMzMTABATEwMfvnlFzRq1AhLly7F/PnzdR5nz549GDhwINzd3SGTybB58+ZHfmbXrl1o27YtbGxs8MwzzyAhIUGrz7Jly+Dp6QlbW1v4+fnh4MGDOtdERERETz+9AtCoUaMwevRoAEC7du1w6dIl/P777/j7778xYsQIncfJz8+Hj48Pli1bplP/jIwM9O/fHz169MCxY8cwefJkjB07Flu3blX3Wb9+PaKiohATE4MjR47Ax8cHQUFBuH79epWWkYiIiJ5ej3UfoHJ2dnZo27ZtlT/Xt29f9O3bV+f+cXFx8PLywscffwwAaNGiBfbu3YtPPvkEQUFBAIBFixYhMjIS4eHh6s/8/PPPiI+Px7vvvlvlGomIiOjpo3MAioqKwty5c1GzZk1ERUU9tO+iRYseu7CKpKWlISAgQKMtKCgIkydPBgCUlJTg8OHDiI6OVk+3sLBAQEAA0tLSKh23uLgYxcXF6vflD3RVKpVQKpUGXIJ/yeWGH5P0ovx3XSi5TsyHMbY5E5Bb8HfKXJSvC64T82GU79YqjqtzADp69Kh64KNHj1baTyaT6TzzqsrKyoKLi4tGm4uLC3Jzc1FYWIg7d+6grKyswj6nT5+udNzY2FjMmTNHq33btm2ws7MzTPH3S0w0/Jj0WFLi401dApVLSjJ1BQaR6M3t3NzEt+Z2bi6SjLSdFxQU6NxX5wB0/wNQn7aHoUZHR2vs1crNzUXDhg0RGBgIBwcHw89QoTD8mKQXpVyOlPh49I6IgFVhoanLIQDIyTF1BQahWMDt3FzILeSIbx2PiJMRKFRxOzcHOe8aZzsvP4KjC73PARJC4NatW5DJZHByctJ3mCpxdXVFdna2Rlt2djYcHBwgl8thaWkJS0vLCvu4urpWOq6NjQ1sbGy02q2srGBlZWWY4u/HL1qzY1VYyABkLoyxzZkAv2jNT6GqkOvFTBjlu7WK41b5KrCsrCyEhobC0dERLi4ucHZ2hqOjIyIiIrSCh6H5+/sjNTVVoy0lJQX+/v4AAGtra7Rr106jj0qlQmpqqroPERERUZX2AOXm5qJTp07Iy8tDeHg4mjdvDiEE/vrrLyQmJmLv3r04cuQIatWqpdN4eXl5SE9PV7/PyMjAsWPHUKdOHTRq1AjR0dG4evUqvvnmGwDAq6++is8++wzTpk1DREQEduzYge+++w4///yzeoyoqCiEhYWhffv26NChAxYvXoz8/Hz1VWFEREREVQpAS5YsgaWlJf7880/Uq1dPY9qMGTPQuXNnLF26FO+9955O4x06dAg9evRQvy8/DycsLAwJCQnIzMzE5cuX1dO9vLzw888/46233sKSJUvQoEEDfP311+pL4AFgxIgRuHHjBmbNmoWsrCz4+voiOTlZ68RoIiIiki6ZEELo2rljx44YP358pXtT4uPj8dVXXz30kvMnQW5uLhQKBXJycoxzErQRr5SjqlHK5UhKTES/kBCeA2QudP+TZNZkc7idmwu5hRyJ3okIORHCc4DMhIgxznZele/vKp0DdPbsWXTq1KnS6Z06dVI/I4yIiIjIXFUpAOXm5qJ27dqVTq9du3aVLkEjIiIiMoUqBSAhBCwsKv+ITCZDFY6oEREREZlElU6CFkLg2WefrfRuzww/RERE9CSoUgBauXKlseogIiIiqjZVCkBhYWHGqoOIiIio2lT5TtBERERETzoGICIiIpIcBiAiIiKSHAYgIiIikpwqByClUokmTZrg1KlTxqiHiIiIyOiqHICsrKxQVFRkjFqIiIiIqoVeh8AmTJiADz74AKWlpYauh4iIiMjoqnQfoHK///47UlNTsW3bNrRp0wY1a9bUmP79998bpDgiIiIiY9ArANWuXRvDhg0zdC1ERERE1UKvAMRHYhAREdGTTO/L4EtLS7F9+3Z8+eWXuHfvHgDg2rVryMvLM1hxRERERMag1x6gS5cuoU+fPrh8+TKKi4vRu3dv2Nvb44MPPkBxcTHi4uIMXScRERGRwei1B2jSpElo37497ty5A7lcrm4fOnQoUlNTDVYcERERkTHotQfo119/xb59+2Btba3R7unpiatXrxqkMCIiIiJj0WsPkEqlQllZmVb7lStXYG9v/9hFERERERmTXgEoMDAQixcvVr+XyWTIy8tDTEwM+vXrZ6jaiIiIiIxCr0NgH3/8MYKCgtCyZUsUFRVh5MiROHfuHOrWrYvExERD10hERERkUHoFoAYNGuD48eNYv349jh8/jry8PIwZMwYvv/yyxknRREREROZIrwC0Z88edOrUCS+//DJefvlldXtpaSn27NmDrl27GqxAIiIiIkPT6xygHj164Pbt21rtOTk56NGjx2MXRURERGRMegUgIQRkMplW+61bt7QejEpERERkbqp0COw///kPgH+u+ho9ejRsbGzU08rKynDixAl06tTJsBUSERERGViVApBCoQDwzx4ge3t7jROera2t0bFjR0RGRhq2QiIiIiIDq1IAKn8KvKenJ6ZMmcLDXURERPRE0usqsJiYGEPXQURERFRt9DoJGgA2btyI4cOHo2PHjmjbtq3Gq6qWLVsGT09P2Nraws/PDwcPHqy0b/fu3SGTybRe/fv3V/cZPXq01vQ+ffrotZxERET09NErAC1duhTh4eFwcXHB0aNH0aFDBzg5OeHChQvo27dvlcZav349oqKiEBMTgyNHjsDHxwdBQUG4fv16hf2///57ZGZmql8nT56EpaUlXnrpJY1+ffr00ejHO1QTERFROb0C0Oeff47ly5fj008/hbW1NaZNm4aUlBS8+eabyMnJqdJYixYtQmRkJMLDw9GyZUvExcXBzs4O8fHxFfavU6cOXF1d1a+UlBTY2dlpBSAbGxuNfo6OjvosKhERET2F9DoH6PLly+rL3eVyOe7duwcAeOWVV9CxY0d89tlnOo1TUlKCw4cPIzo6Wt1mYWGBgIAApKWl6TTGihUrEBwcrHVC9q5du+Ds7AxHR0f07NkT8+bNg5OTU4VjFBcXo7i4WP0+NzcXAKBUKqFUKnWqo0r4uBCzofx3XSi5TsyHMbY5E5Bb8HfKXJSvC64T82GU79YqjqtXAHJ1dcXt27fh4eGBRo0aYf/+/fDx8UFGRgaEEDqPc/PmTZSVlcHFxUWj3cXFBadPn37k5w8ePIiTJ09ixYoVGu19+vTBf/7zH3h5eeH8+fN477330LdvX6SlpcHS0lJrnNjYWMyZM0erfdu2bbCzs9N5eXTGw3FmJ6WSPY5kAklJpq7AIBK9uZ2bm/jW3M7NRZKRtvOCggKd++oVgHr27IktW7bgueeeQ3h4ON566y1s3LgRhw4dUt8ssTqsWLECbdq0QYcOHTTag4OD1f/fpk0beHt7o0mTJti1axd69eqlNU50dDSioqLU73Nzc9GwYUMEBgbCwcHB8IX/ez8lMj2lXI6U+Hj0joiAVWGhqcshAKjiYXRzpVjA7dxcyC3kiG8dj4iTEShUcTs3BznvGmc7Lz+Cowu9AtDy5cuhUqkAABMmTICTkxP27duHQYMGYfz48TqPU7duXVhaWiI7O1ujPTs7G66urg/9bH5+PtatW4f333//kfNp3Lgx6tati/T09AoDkI2NjcZdrctZWVnBysrqkeNXGb9ozY5VYSEDkLkwxjZnAvyiNT+FqkKuFzNhlO/WKo5b5ZOgS0tLMW/ePGRlZanbgoODsXTpUrzxxhuwtrbWeSxra2u0a9cOqamp6jaVSoXU1FT4+/s/9LMbNmxAcXExRo0a9cj5XLlyBbdu3YKbm5vOtREREdHTq8oBqEaNGli4cCFKS0sNUkBUVBS++uorrFq1CqdOncJrr72G/Px8hIeHAwBCQ0M1TpIut2LFCgwZMkTrxOa8vDxMnToV+/fvx8WLF5GamorBgwfjmWeeQVBQkEFqJiIioiebXofAevXqhd27d8PT0/OxCxgxYgRu3LiBWbNmISsrC76+vkhOTlafGH358mVYWGjmtDNnzmDv3r3Ytm2b1niWlpY4ceIEVq1ahbt378Ld3R2BgYGYO3duhYe5iIiISHr0CkB9+/bFu+++iz/++APt2rXTugR90KBBVRpv4sSJmDhxYoXTdu3apdXWrFmzSq82k8vl2Lp1a5XmT0RERNKiVwB6/fXXAfxzE8MHyWQylJWVPV5VREREREakVwAqvwKMiIiI6Emk98NQiYiIiJ5UVQpAO3bsQMuWLSu80VBOTg5atWqFPXv2GKw4IiIiImOoUgBavHgxIiMjK7w7skKhwPjx4/HJJ58YrDgiIiIiY6hSADp+/Dj69OlT6fTAwEAcPnz4sYsiIiIiMqYqBaDs7OyH3ma6Ro0auHHjxmMXRURERGRMVQpA9evXx8mTJyudfuLECT5ugoiIiMxelQJQv379MHPmTBQVFWlNKywsRExMDAYMGGCw4oiIiIiMoUr3AZoxYwa+//57PPvss5g4cSKaNWsGADh9+jSWLVuGsrIyTJ8+3SiFEhERERlKlQKQi4sL9u3bh9deew3R0dHqx1HIZDIEBQVh2bJl6md4EREREZmrKt8J2sPDA0lJSbhz5w7S09MhhEDTpk3h6OhojPqIiIiIDE6vR2EAgKOjI55//nlD1kJERERULfgoDCIiIpIcBiAiIiKSHAYgIiIikhwGICIiIpIcBiAiIiKSHAYgIiIikhwGICIiIpIcBiAiIiKSHAYgIiIikhwGICIiIpIcBiAiIiKSHAYgIiIikhwGICIiIpIcBiAiIiKSHAYgIiIikhwGICIiIpIcBiAiIiKSHAYgIiIikhwGICIiIpIcswhAy5Ytg6enJ2xtbeHn54eDBw9W2jchIQEymUzjZWtrq9FHCIFZs2bBzc0NcrkcAQEBOHfunLEXg4iIiJ4QJg9A69evR1RUFGJiYnDkyBH4+PggKCgI169fr/QzDg4OyMzMVL8uXbqkMX3hwoVYunQp4uLicODAAdSsWRNBQUEoKioy9uIQERHRE8DkAWjRokWIjIxEeHg4WrZsibi4ONjZ2SE+Pr7Sz8hkMri6uqpfLi4u6mlCCCxevBgzZszA4MGD4e3tjW+++QbXrl3D5s2bq2GJiIiIyNzVMOXMS0pKcPjwYURHR6vbLCwsEBAQgLS0tEo/l5eXBw8PD6hUKrRt2xbz589Hq1atAAAZGRnIyspCQECAur9CoYCfnx/S0tIQHBysNV5xcTGKi4vV73NzcwEASqUSSqXysZdTi1xu+DFJL8p/14WS68R8GGObMwG5BX+nzEX5uuA6MR9G+W6t4rgmDUA3b95EWVmZxh4cAHBxccHp06cr/EyzZs0QHx8Pb29v5OTk4KOPPkKnTp3w559/okGDBsjKylKP8eCY5dMeFBsbizlz5mi1b9u2DXZ2dvos2sMlJhp+THosKQ/Z40jVLCnJ1BUYRKI3t3NzE9+a27m5SDLSdl5QUKBzX5MGIH34+/vD399f/b5Tp05o0aIFvvzyS8ydO1evMaOjoxEVFaV+n5ubi4YNGyIwMBAODg6PXbMWhcLwY5JelHI5UuLj0TsiAlaFhaYuhwAgJ8fUFRiEYgG3c3Mht5AjvnU8Ik5GoFDF7dwc5LxrnO28/AiOLkwagOrWrQtLS0tkZ2drtGdnZ8PV1VWnMaysrPDcc88hPT0dANSfy87Ohpubm8aYvr6+FY5hY2MDGxubCse2srLSqY4q4Ret2bEqLGQAMhfG2OZMgF+05qdQVcj1YiaM8t1axXFNehK0tbU12rVrh9TUVHWbSqVCamqqxl6ehykrK8Mff/yhDjteXl5wdXXVGDM3NxcHDhzQeUwiIiJ6upn8EFhUVBTCwsLQvn17dOjQAYsXL0Z+fj7Cw8MBAKGhoahfvz5iY2MBAO+//z46duyIZ555Bnfv3sWHH36IS5cuYezYsQD+uUJs8uTJmDdvHpo2bQovLy/MnDkT7u7uGDJkiKkWk4iIiMyIyQPQiBEjcOPGDcyaNQtZWVnw9fVFcnKy+iTmy5cvw8Li/3dU3blzB5GRkcjKyoKjoyPatWuHffv2oWXLluo+06ZNQ35+PsaNG4e7d++iS5cuSE5O1rphIhEREUmTTAghTF2EucnNzYVCoUBOTo5xToKWyQw/JulFKZcjKTER/UJCeA6QuXhK/iTJ5nA7NxdyCzkSvRMRciKE5wCZCRFjnO28Kt/fJr8RIhEREVF1YwAiIiIiyWEAIiIiIslhACIiIiLJYQAiIiIiyWEAIiIiIslhACIiIiLJYQAiIiIiyWEAIiIiIslhACIiIiLJYQAiIiIiyWEAIiIiIslhACIiIiLJYQAiIiIiyWEAIiIiIslhACIiIiLJYQAiIiIiyWEAIiIiIslhACIiIiLJYQAiIiIiyWEAIiIiIslhACIiIiLJYQAiIiIiyWEAIiIiIslhACIiIiLJYQAiIiIiyWEAIiIiIslhACIiIiLJYQAiIiIiyWEAIiIiIslhACIiIiLJMYsAtGzZMnh6esLW1hZ+fn44ePBgpX2/+uorvPDCC3B0dISjoyMCAgK0+o8ePRoymUzj1adPH2MvBhERET0hTB6A1q9fj6ioKMTExODIkSPw8fFBUFAQrl+/XmH/Xbt2ISQkBDt37kRaWhoaNmyIwMBAXL16VaNfnz59kJmZqX4lJiZWx+IQERHRE8DkAWjRokWIjIxEeHg4WrZsibi4ONjZ2SE+Pr7C/mvWrMHrr78OX19fNG/eHF9//TVUKhVSU1M1+tnY2MDV1VX9cnR0rI7FISIioidADVPOvKSkBIcPH0Z0dLS6zcLCAgEBAUhLS9NpjIKCAiiVStSpU0ejfdeuXXB2doajoyN69uyJefPmwcnJqcIxiouLUVxcrH6fm5sLAFAqlVAqlVVdrEeTyw0/JulF+e+6UHKdmA9jbHMmILfg75S5KF8XXCfmwyjfrVUcVyaEEEapQgfXrl1D/fr1sW/fPvj7+6vbp02bht27d+PAgQOPHOP111/H1q1b8eeff8LW1hYAsG7dOtjZ2cHLywvnz5/He++9h1q1aiEtLQ2WlpZaY8yePRtz5szRal+7di3s7OweYwmJiIiouhQUFGDkyJHIycmBg4PDQ/uadA/Q41qwYAHWrVuHXbt2qcMPAAQHB6v/v02bNvD29kaTJk2wa9cu9OrVS2uc6OhoREVFqd/n5uaqzy161A9QLwqF4cckvSjlcqTEx6N3RASsCgtNXQ4BQE6OqSswCMUCbufmQm4hR3zreEScjEChitu5Och51zjbefkRHF2YNADVrVsXlpaWyM7O1mjPzs6Gq6vrQz/70UcfYcGCBdi+fTu8vb0f2rdx48aoW7cu0tPTKwxANjY2sLGx0Wq3srKClZWVDktSRfyiNTtWhYUMQObCGNucCfCL1vwUqgq5XsyEUb5bqziuSU+Ctra2Rrt27TROYC4/ofn+Q2IPWrhwIebOnYvk5GS0b9/+kfO5cuUKbt26BTc3N4PUTURERE82k18FFhUVha+++gqrVq3CqVOn8NprryE/Px/h4eEAgNDQUI2TpD/44APMnDkT8fHx8PT0RFZWFrKyspCXlwcAyMvLw9SpU7F//35cvHgRqampGDx4MJ555hkEBQWZZBmJiIjIvJj8HKARI0bgxo0bmDVrFrKysuDr64vk5GS4uLgAAC5fvgwLi//PaV988QVKSkrw4osvaowTExOD2bNnw9LSEidOnMCqVatw9+5duLu7IzAwEHPnzq3wMBcRERFJj8kDEABMnDgREydOrHDarl27NN5fvHjxoWPJ5XJs3brVQJURERHR08jkh8CIiIiIqhsDEBEREUkOAxARERFJDgMQERERSQ4DEBEREUkOAxARERFJDgMQERERSQ4DEBEREUkOAxARERFJDgMQERERSQ4DEBEREUkOAxARERFJDgMQERERSQ4DEBEREUkOAxARERFJDgMQERERSQ4DEBEREUkOAxARERFJDgMQERERSQ4DEBEREUkOAxARERFJDgMQERERSQ4DEBEREUkOAxARERFJDgMQERERSQ4DEBEREUkOAxARERFJDgMQERERSQ4DEBEREUkOAxARERFJDgMQERERSY5ZBKBly5bB09MTtra28PPzw8GDBx/af8OGDWjevDlsbW3Rpk0bJCUlaUwXQmDWrFlwc3ODXC5HQEAAzp07Z8xFICIioieIyQPQ+vXrERUVhZiYGBw5cgQ+Pj4ICgrC9evXK+y/b98+hISEYMyYMTh69CiGDBmCIUOG4OTJk+o+CxcuxNKlSxEXF4cDBw6gZs2aCAoKQlFRUXUtFhEREZkxkwegRYsWITIyEuHh4WjZsiXi4uJgZ2eH+Pj4CvsvWbIEffr0wdSpU9GiRQvMnTsXbdu2xWeffQbgn70/ixcvxowZMzB48GB4e3vjm2++wbVr17B58+ZqXDIiIiIyVzVMOfOSkhIcPnwY0dHR6jYLCwsEBAQgLS2tws+kpaUhKipKoy0oKEgdbjIyMpCVlYWAgAD1dIVCAT8/P6SlpSE4OFhrzOLiYhQXF6vf5+TkAABu374NpVKp9/JVytbW8GOSXpS2tigoKMAtW1tYCWHqcggAbt0ydQUGYVvC7dxc2Fr8s53blthCqLidm4NbRtrO7927B+CfnSGPYtIAdPPmTZSVlcHFxUWj3cXFBadPn67wM1lZWRX2z8rKUk8vb6usz4NiY2MxZ84crXYvLy/dFoSeXEVFwMiRpq6C7le3rqkroKdMEYowEtzOzUnd+cbdzu/duweFQvHQPiYNQOYiOjpaY6+SSqXC7du34eTkBJlMZsLKyNhyc3PRsGFD/P3333BwcDB1OURkBNzOpUMIgXv37sHd3f2RfU0agOrWrQtLS0tkZ2drtGdnZ8PV1bXCz7i6uj60f/l/s7Oz4ebmptHH19e3wjFtbGxgY2Oj0Va7du2qLAo94RwcHPiHkegpx+1cGh6156ecSU+Ctra2Rrt27ZCamqpuU6lUSE1Nhb+/f4Wf8ff31+gPACkpKer+Xl5ecHV11eiTm5uLAwcOVDomERERSYvJD4FFRUUhLCwM7du3R4cOHbB48WLk5+cjPDwcABAaGor69esjNjYWADBp0iR069YNH3/8Mfr3749169bh0KFDWL58OQBAJpNh8uTJmDdvHpo2bQovLy/MnDkT7u7uGDJkiKkWk4iIiMyIyQPQiBEjcOPGDcyaNQtZWVnw9fVFcnKy+iTmy5cvw8Li/3dUderUCWvXrsWMGTPw3nvvoWnTpti8eTNat26t7jNt2jTk5+dj3LhxuHv3Lrp06YLk5GTY8uoreoCNjQ1iYmK0DoES0dOD2zlVRCZ0uVaMiIiI6Cli8hshEhEREVU3BiAiIiKSHAYgIiIikhwGICIiIpIcBiB6Kl28eBEymQzHjh3T+TMJCQkGvwGmPnUQ0cMtX74cDRs2hIWFBRYvXozZs2dXeqNbUzPn2qSOAYjM2t9//42IiAi4u7vD2toaHh4emDRp0iMfpNewYUNkZmZq3B7hUUaMGIGzZ88+bslEVIHRo0dDJpNBJpPBysoKLi4u6N27N+Lj46FSqXQeJzc3FxMnTsQ777yDq1evYty4cQavlaFFGhiAyGxduHAB7du3x7lz55CYmIj09HTExcWp7xR++/btCj9XUlICS0tLuLq6okYN3W91JZfL4ezsbKjyiegBffr0QWZmJi5evIhffvkFPXr0wKRJkzBgwACUlpbqNMbly5ehVCrRv39/uLm5wc7OzshV09OKAYjM1oQJE2BtbY1t27ahW7duaNSoEfr27Yvt27fj6tWrmD59OgDA09MTc+fORWhoKBwcHDBu3LgKDz1t2bIFTZs2ha2tLXr06IFVq1ZBJpPh7t27ALQPgZX/K3D16tXw9PSEQqFAcHAw7t27p+6TnJyMLl26oHbt2nBycsKAAQNw/vz56vjxED1xbGxs4Orqivr166Nt27Z477338MMPP+CXX35BQkICAODu3bsYO3Ys6tWrBwcHB/Ts2RPHjx8H8M822qZNGwBA48aNIZPJcPHixQrn9fXXX6NFixawtbVF8+bN8fnnn2tMv3LlCkJCQlCnTh3UrFkT7du3x4EDB5CQkIA5c+bg+PHj6j1WutRWbsGCBXBxcYG9vT3GjBmDoqIiw/0AyaAYgMgs3b59G1u3bsXrr78OuVyuMc3V1RUvv/wy1q9fj/L7eH700Ufw8fHB0aNHMXPmTK3xMjIy8OKLL2LIkCE4fvw4xo8frw5QD3P+/Hls3rwZP/30E3766Sfs3r0bCxYsUE/Pz89HVFQUDh06hNTUVFhYWGDo0KFV2qVPJGU9e/aEj48Pvv/+ewDASy+9hOvXr+OXX37B4cOH0bZtW/Tq1Qu3b9/GiBEjsH37dgDAwYMHkZmZiYYNG2qNuWbNGsyaNQv//e9/cerUKcyfPx8zZ87EqlWrAAB5eXno1q0brl69ii1btuD48eOYNm0aVCoVRowYgbfffhutWrVCZmYmMjMzMWLEiEfWBgDfffcdZs+ejfnz5+PQoUNwc3PTCl5kRgSRGdq/f78AIP73v/9VOH3RokUCgMjOzhYeHh5iyJAhGtMzMjIEAHH06FEhhBDvvPOOaN26tUaf6dOnCwDizp07QgghVq5cKRQKhXp6TEyMsLOzE7m5ueq2qVOnCj8/v0rrvnHjhgAg/vjjjwrrIJKqsLAwMXjw4AqnjRgxQrRo0UL8+uuvwsHBQRQVFWlMb9Kkifjyyy+FEEIcPXpUABAZGRnq6TExMcLHx0ej/9q1azXGmDt3rvD39xdCCPHll18Ke3t7cevWrQrreXA8IYROtfn7+4vXX39dY7qfn5/WWGQeTP4sMKKHETo+qaV9+/YPnX7mzBk8//zzGm0dOnR45Lienp6wt7dXv3dzc8P169fV78+dO4dZs2bhwIEDuHnzpnrPz+XLl6t0AjaRlAkhIJPJcPz4ceTl5cHJyUljemFhoc6HlvPz83H+/HmMGTMGkZGR6vbS0lIoFAoAwLFjx/Dcc8+hTp06OteoS22nTp3Cq6++qjHd398fO3fu1Hk+VH0YgMgsPfPMM5DJZDh16hSGDh2qNf3UqVNwdHREvXr1AAA1a9Y0Sh1WVlYa72UymcbhrYEDB8LDwwNfffUV3N3doVKp0Lp1a5SUlBilHqKn0alTp+Dl5YW8vDy4ublh165dWn10vUVFXl4eAOCrr76Cn5+fxjRLS0sA0Dqsruu4j1sbmRcGIDJLTk5O6N27Nz7//HO89dZbGn+wsrKysGbNGoSGhkImk+k0XrNmzZCUlKTR9vvvvz9Wjbdu3cKZM2fw1Vdf4YUXXgAA7N2797HGJJKaHTt24I8//sBbb72FBg0aICsrCzVq1ICnp6de47m4uMDd3R0XLlzAyy+/XGEfb29vfP3117h9+3aFe4Gsra1RVlam0da2bdtH1taiRQscOHAAoaGh6rb9+/frtRxkfDwJmszWZ599huLiYgQFBWHPnj34+++/kZycjN69e6N+/fr473//q/NY48ePx+nTp/HOO+/g7Nmz+O6779RXdugaoh7k6OgIJycnLF++HOnp6dixYweioqL0GotICoqLi5GVlYWrV6/iyJEjmD9/PgYPHowBAwYgNDQUAQEB8Pf3x5AhQ7Bt2zZcvHgR+/btw/Tp03Ho0CGd5zNnzhzExsZi6dKlOHv2LP744w+sXLkSixYtAgCEhITA1dUVQ4YMwW+//YYLFy5g06ZNSEtLA/DPoe+MjAwcO3YMN2/eRHFxsU61TZo0CfHx8Vi5ciXOnj2LmJgY/Pnnn4b/QZJBMACR2WratCkOHTqExo0bY/jw4WjSpAnGjRuHHj16IC0trUrH7728vLBx40Z8//338Pb2xhdffKG+CszGxkav+iwsLLBu3TocPnwYrVu3xltvvYUPP/xQr7GIpCA5ORlubm7w9PREnz59sHPnTixduhQ//PADLC0tIZPJkJSUhK5duyI8PBzPPvssgoODcenSJbi4uOg8n7Fjx+Lrr7/GypUr0aZNG3Tr1g0JCQnw8vICAPXtNZydndGvXz+0adMGCxYsUB8iGzZsGPr06YMePXqgXr16SExM1Km2ESNGYObMmZg2bRratWuHS5cu4bXXXjP8D5IMQiZ0PcuU6Cnz3//+F3Fxcfj7779NXQoREVUzngNEkvH555/j+eefh5OTE3777Td8+OGHmDhxoqnLIiIiE2AAIsk4d+4c5s2bh9u3b6NRo0Z4++23ER0dbeqyiIjIBHgIjIiIiCSHJ0ETERGR5DAAERERkeQwABEREZHkMAARERGR5DAAERERkeQwABEREZHkMAARERGR5DAAERERkeT8H2V/dbFSrZ6wAAAAAElFTkSuQmCC\n"
                },
                "metadata": {}
              }
            ]
          }
        },
        "96d62cb9f91d42d29053b901fc906d98": {
          "model_module": "@jupyter-widgets/base",
          "model_name": "LayoutModel",
          "model_module_version": "1.2.0",
          "state": {
            "_model_module": "@jupyter-widgets/base",
            "_model_module_version": "1.2.0",
            "_model_name": "LayoutModel",
            "_view_count": null,
            "_view_module": "@jupyter-widgets/base",
            "_view_module_version": "1.2.0",
            "_view_name": "LayoutView",
            "align_content": null,
            "align_items": null,
            "align_self": null,
            "border": null,
            "bottom": null,
            "display": null,
            "flex": null,
            "flex_flow": null,
            "grid_area": null,
            "grid_auto_columns": null,
            "grid_auto_flow": null,
            "grid_auto_rows": null,
            "grid_column": null,
            "grid_gap": null,
            "grid_row": null,
            "grid_template_areas": null,
            "grid_template_columns": null,
            "grid_template_rows": null,
            "height": null,
            "justify_content": null,
            "justify_items": null,
            "left": null,
            "margin": null,
            "max_height": null,
            "max_width": null,
            "min_height": null,
            "min_width": null,
            "object_fit": null,
            "object_position": null,
            "order": null,
            "overflow": null,
            "overflow_x": null,
            "overflow_y": null,
            "padding": null,
            "right": null,
            "top": null,
            "visibility": null,
            "width": null
          }
        },
        "a1a62bfe79734f15b72ae688f49f0baa": {
          "model_module": "@jupyter-widgets/base",
          "model_name": "LayoutModel",
          "model_module_version": "1.2.0",
          "state": {
            "_model_module": "@jupyter-widgets/base",
            "_model_module_version": "1.2.0",
            "_model_name": "LayoutModel",
            "_view_count": null,
            "_view_module": "@jupyter-widgets/base",
            "_view_module_version": "1.2.0",
            "_view_name": "LayoutView",
            "align_content": null,
            "align_items": null,
            "align_self": null,
            "border": null,
            "bottom": null,
            "display": null,
            "flex": null,
            "flex_flow": null,
            "grid_area": null,
            "grid_auto_columns": null,
            "grid_auto_flow": null,
            "grid_auto_rows": null,
            "grid_column": null,
            "grid_gap": null,
            "grid_row": null,
            "grid_template_areas": null,
            "grid_template_columns": null,
            "grid_template_rows": null,
            "height": null,
            "justify_content": null,
            "justify_items": null,
            "left": null,
            "margin": null,
            "max_height": null,
            "max_width": null,
            "min_height": null,
            "min_width": null,
            "object_fit": null,
            "object_position": null,
            "order": null,
            "overflow": null,
            "overflow_x": null,
            "overflow_y": null,
            "padding": null,
            "right": null,
            "top": null,
            "visibility": null,
            "width": null
          }
        },
        "2792b13c720c43b29644e924b7f14e64": {
          "model_module": "@jupyter-widgets/controls",
          "model_name": "SliderStyleModel",
          "model_module_version": "1.5.0",
          "state": {
            "_model_module": "@jupyter-widgets/controls",
            "_model_module_version": "1.5.0",
            "_model_name": "SliderStyleModel",
            "_view_count": null,
            "_view_module": "@jupyter-widgets/base",
            "_view_module_version": "1.2.0",
            "_view_name": "StyleView",
            "description_width": "",
            "handle_color": null
          }
        },
        "f077ada9e3af4f8799cf8405a78eb1d0": {
          "model_module": "@jupyter-widgets/base",
          "model_name": "LayoutModel",
          "model_module_version": "1.2.0",
          "state": {
            "_model_module": "@jupyter-widgets/base",
            "_model_module_version": "1.2.0",
            "_model_name": "LayoutModel",
            "_view_count": null,
            "_view_module": "@jupyter-widgets/base",
            "_view_module_version": "1.2.0",
            "_view_name": "LayoutView",
            "align_content": null,
            "align_items": null,
            "align_self": null,
            "border": null,
            "bottom": null,
            "display": null,
            "flex": null,
            "flex_flow": null,
            "grid_area": null,
            "grid_auto_columns": null,
            "grid_auto_flow": null,
            "grid_auto_rows": null,
            "grid_column": null,
            "grid_gap": null,
            "grid_row": null,
            "grid_template_areas": null,
            "grid_template_columns": null,
            "grid_template_rows": null,
            "height": null,
            "justify_content": null,
            "justify_items": null,
            "left": null,
            "margin": null,
            "max_height": null,
            "max_width": null,
            "min_height": null,
            "min_width": null,
            "object_fit": null,
            "object_position": null,
            "order": null,
            "overflow": null,
            "overflow_x": null,
            "overflow_y": null,
            "padding": null,
            "right": null,
            "top": null,
            "visibility": null,
            "width": null
          }
        },
        "bbe9b19df2554a3e9e0de4ba7144c594": {
          "model_module": "@jupyter-widgets/controls",
          "model_name": "SliderStyleModel",
          "model_module_version": "1.5.0",
          "state": {
            "_model_module": "@jupyter-widgets/controls",
            "_model_module_version": "1.5.0",
            "_model_name": "SliderStyleModel",
            "_view_count": null,
            "_view_module": "@jupyter-widgets/base",
            "_view_module_version": "1.2.0",
            "_view_name": "StyleView",
            "description_width": "",
            "handle_color": null
          }
        },
        "b902935e21e14440a558eb3eacd2e65c": {
          "model_module": "@jupyter-widgets/base",
          "model_name": "LayoutModel",
          "model_module_version": "1.2.0",
          "state": {
            "_model_module": "@jupyter-widgets/base",
            "_model_module_version": "1.2.0",
            "_model_name": "LayoutModel",
            "_view_count": null,
            "_view_module": "@jupyter-widgets/base",
            "_view_module_version": "1.2.0",
            "_view_name": "LayoutView",
            "align_content": null,
            "align_items": null,
            "align_self": null,
            "border": null,
            "bottom": null,
            "display": null,
            "flex": null,
            "flex_flow": null,
            "grid_area": null,
            "grid_auto_columns": null,
            "grid_auto_flow": null,
            "grid_auto_rows": null,
            "grid_column": null,
            "grid_gap": null,
            "grid_row": null,
            "grid_template_areas": null,
            "grid_template_columns": null,
            "grid_template_rows": null,
            "height": null,
            "justify_content": null,
            "justify_items": null,
            "left": null,
            "margin": null,
            "max_height": null,
            "max_width": null,
            "min_height": null,
            "min_width": null,
            "object_fit": null,
            "object_position": null,
            "order": null,
            "overflow": null,
            "overflow_x": null,
            "overflow_y": null,
            "padding": null,
            "right": null,
            "top": null,
            "visibility": null,
            "width": null
          }
        },
        "73aaf325bc3546fa8fa19411499723e4": {
          "model_module": "@jupyter-widgets/controls",
          "model_name": "SliderStyleModel",
          "model_module_version": "1.5.0",
          "state": {
            "_model_module": "@jupyter-widgets/controls",
            "_model_module_version": "1.5.0",
            "_model_name": "SliderStyleModel",
            "_view_count": null,
            "_view_module": "@jupyter-widgets/base",
            "_view_module_version": "1.2.0",
            "_view_name": "StyleView",
            "description_width": "",
            "handle_color": null
          }
        },
        "9dcecf51b8dd4243bb098f9740a748b1": {
          "model_module": "@jupyter-widgets/base",
          "model_name": "LayoutModel",
          "model_module_version": "1.2.0",
          "state": {
            "_model_module": "@jupyter-widgets/base",
            "_model_module_version": "1.2.0",
            "_model_name": "LayoutModel",
            "_view_count": null,
            "_view_module": "@jupyter-widgets/base",
            "_view_module_version": "1.2.0",
            "_view_name": "LayoutView",
            "align_content": null,
            "align_items": null,
            "align_self": null,
            "border": null,
            "bottom": null,
            "display": null,
            "flex": null,
            "flex_flow": null,
            "grid_area": null,
            "grid_auto_columns": null,
            "grid_auto_flow": null,
            "grid_auto_rows": null,
            "grid_column": null,
            "grid_gap": null,
            "grid_row": null,
            "grid_template_areas": null,
            "grid_template_columns": null,
            "grid_template_rows": null,
            "height": null,
            "justify_content": null,
            "justify_items": null,
            "left": null,
            "margin": null,
            "max_height": null,
            "max_width": null,
            "min_height": null,
            "min_width": null,
            "object_fit": null,
            "object_position": null,
            "order": null,
            "overflow": null,
            "overflow_x": null,
            "overflow_y": null,
            "padding": null,
            "right": null,
            "top": null,
            "visibility": null,
            "width": null
          }
        }
      }
    }
  },
  "cells": [
    {
      "cell_type": "markdown",
      "source": [
        "# ☄️ Meteor Madness Impact Simulator\n",
        "**NASA Space Apps Challenge 2025 Project**  \n",
        "Built by Preethika & Pradhyun Yetukuri\n",
        "\n",
        "This notebook lets users simulate asteroid impact scenarios using:\n",
        "- Diameter + speed inputs\n",
        "- Physics-based equations for energy, crater, and quake\n",
        "- Optional deflection scenario\n",
        "- Interactive graphs and outputs\n",
        "\n",
        "Inspired by \"Impactor-2025\" and the need for public tools to visualize asteroid risk.\n"
      ],
      "metadata": {
        "id": "vxElKjr7D45m"
      }
    },
    {
      "cell_type": "code",
      "source": [
        "import numpy as np\n",
        "import math\n",
        "import matplotlib.pyplot as plt\n",
        "from ipywidgets import interact, FloatSlider"
      ],
      "metadata": {
        "id": "V3-gs1t_D8zD"
      },
      "execution_count": 11,
      "outputs": []
    },
    {
      "cell_type": "code",
      "source": [
        "def calculate_kinetic_energy(diameter_m, velocity_mps):\n",
        "    radius = diameter_m / 2\n",
        "    volume = (4/3) * math.pi * radius**3\n",
        "    density = 3000  # kg/m³ (rocky asteroid)\n",
        "    mass = density * volume\n",
        "    energy = 0.5 * mass * velocity_mps**2\n",
        "    return energy\n",
        "\n",
        "def estimate_crater_diameter(energy_joules):\n",
        "    k = 0.07\n",
        "    crater_km = k * (energy_joules ** 0.25) / 1000  # km\n",
        "    return crater_km\n",
        "\n",
        "def estimate_magnitude(energy_joules):\n",
        "    magnitude = (2/3) * (math.log10(energy_joules)) - 3.2\n",
        "    return magnitude\n"
      ],
      "metadata": {
        "id": "jqFfd3SFEDoU"
      },
      "execution_count": 12,
      "outputs": []
    },
    {
      "cell_type": "code",
      "source": [
        "def simulate_impact(diameter_m=140, velocity_kmps=19):\n",
        "    velocity_mps = velocity_kmps * 1000\n",
        "    energy = calculate_kinetic_energy(diameter_m, velocity_mps)\n",
        "    crater = estimate_crater_diameter(energy)\n",
        "    magnitude = estimate_magnitude(energy)\n",
        "\n",
        "    print(f\"🌠 Asteroid Diameter: {diameter_m} m\")\n",
        "    print(f\"🚀 Velocity: {velocity_kmps} km/s\")\n",
        "    print(f\"💥 Energy: {energy:.2e} J\")\n",
        "    print(f\"🌋 Crater Diameter: {crater:.2f} km\")\n",
        "    print(f\"🌍 Earthquake Magnitude: {magnitude:.2f}\")\n",
        "\n",
        "    labels = ['Energy (x10¹⁵ J)', 'Crater (km)', 'Magnitude']\n",
        "    values = [energy / 1e15, crater, magnitude]\n",
        "\n",
        "    plt.bar(labels, values, color=['orange', 'gray', 'red'])\n",
        "    plt.title('Impact Metrics')\n",
        "    plt.ylabel('Value')\n",
        "    plt.grid(True)\n",
        "    plt.show()\n",
        "\n",
        "interact(simulate_impact,\n",
        "         diameter_m=FloatSlider(value=140, min=10, max=1000, step=10, description='Diameter (m)'),\n",
        "         velocity_kmps=FloatSlider(value=19, min=5, max=70, step=1, description='Velocity (km/s)'))\n"
      ],
      "metadata": {
        "colab": {
          "base_uri": "https://localhost:8080/",
          "height": 692,
          "referenced_widgets": [
            "0f9ee3c22dc04728b456b4d691b66d0a",
            "c5a5397f6afc48b48f662ffc2390b63b",
            "4817bf836e8a491fb16969716682e419",
            "ee57e7eb82c24bbbbb88f439fe541982",
            "7dd0ab2adea74edfa822056ab72cc08b",
            "cd7fc3b697694011a404153a1dba15df",
            "fed28e71804449ad944bb76cbfa190a3",
            "e890ddd8a489444aa01ab96493995842",
            "921c2cb5b0874e33966d838465eddd0a",
            "94d0713a3528407f8c817469c5d4ebbc"
          ]
        },
        "id": "4XJYdaBcEEgh",
        "outputId": "081e698f-3b0a-4784-a645-d025c9f31568"
      },
      "execution_count": 13,
      "outputs": [
        {
          "output_type": "display_data",
          "data": {
            "text/plain": [
              "interactive(children=(FloatSlider(value=140.0, description='Diameter (m)', max=1000.0, min=10.0, step=10.0), F…"
            ],
            "application/vnd.jupyter.widget-view+json": {
              "version_major": 2,
              "version_minor": 0,
              "model_id": "0f9ee3c22dc04728b456b4d691b66d0a"
            }
          },
          "metadata": {}
        },
        {
          "output_type": "execute_result",
          "data": {
            "text/plain": [
              "<function __main__.simulate_impact(diameter_m=140, velocity_kmps=19)>"
            ],
            "text/html": [
              "<div style=\"max-width:800px; border: 1px solid var(--colab-border-color);\"><style>\n",
              "      pre.function-repr-contents {\n",
              "        overflow-x: auto;\n",
              "        padding: 8px 12px;\n",
              "        max-height: 500px;\n",
              "      }\n",
              "\n",
              "      pre.function-repr-contents.function-repr-contents-collapsed {\n",
              "        cursor: pointer;\n",
              "        max-height: 100px;\n",
              "      }\n",
              "    </style>\n",
              "    <pre style=\"white-space: initial; background:\n",
              "         var(--colab-secondary-surface-color); padding: 8px 12px;\n",
              "         border-bottom: 1px solid var(--colab-border-color);\"><b>simulate_impact</b><br/>def simulate_impact(diameter_m=140, velocity_kmps=19)</pre><pre class=\"function-repr-contents function-repr-contents-collapsed\" style=\"\"><a class=\"filepath\" style=\"display:none\" href=\"#\">/tmp/ipython-input-2617827444.py</a>&lt;no docstring&gt;</pre></div>"
            ]
          },
          "metadata": {},
          "execution_count": 13
        }
      ]
    },
    {
      "cell_type": "code",
      "source": [
        "def simulate_deflection(diameter_m=140, velocity_kmps=19, deflect_percent=10):\n",
        "    v_init = velocity_kmps * 1000\n",
        "    v_new = v_init * (1 - deflect_percent / 100)\n",
        "\n",
        "    e_init = calculate_kinetic_energy(diameter_m, v_init)\n",
        "    e_new = calculate_kinetic_energy(diameter_m, v_new)\n",
        "\n",
        "    crater_init = estimate_crater_diameter(e_init)\n",
        "    crater_new = estimate_crater_diameter(e_new)\n",
        "\n",
        "    print(f\"💥 Original Energy: {e_init:.2e} J\")\n",
        "    print(f\"🛡️ Deflected Energy: {e_new:.2e} J\")\n",
        "    print(f\"🌋 Crater Size: {crater_init:.2f} km → {crater_new:.2f} km\")\n",
        "\n",
        "    labels = ['Original', 'Deflected']\n",
        "    values = [crater_init, crater_new]\n",
        "\n",
        "    plt.bar(labels, values, color=['red', 'green'])\n",
        "    plt.title('Crater Size Before & After Deflection')\n",
        "    plt.ylabel('Crater Diameter (km)')\n",
        "    plt.grid(True)\n",
        "    plt.show()\n",
        "\n",
        "interact(simulate_deflection,\n",
        "         diameter_m=FloatSlider(value=140, min=10, max=1000, step=10),\n",
        "         velocity_kmps=FloatSlider(value=19, min=5, max=70, step=1),\n",
        "         deflect_percent=FloatSlider(value=10, min=1, max=50, step=1, description='Deflect %'))\n"
      ],
      "metadata": {
        "colab": {
          "base_uri": "https://localhost:8080/",
          "height": 689,
          "referenced_widgets": [
            "95e7e613bb1a4da8a24f68029729fff2",
            "7956c1e595e6463cab64c28712a5e2e9",
            "96a0f9310eb04cdeb35ebae01eb7bf38",
            "9e00e7da095d4af58a8e216f030d260d",
            "a429b0ba9c99469bbab69e2a13d5a0e7",
            "96d62cb9f91d42d29053b901fc906d98",
            "a1a62bfe79734f15b72ae688f49f0baa",
            "2792b13c720c43b29644e924b7f14e64",
            "f077ada9e3af4f8799cf8405a78eb1d0",
            "bbe9b19df2554a3e9e0de4ba7144c594",
            "b902935e21e14440a558eb3eacd2e65c",
            "73aaf325bc3546fa8fa19411499723e4",
            "9dcecf51b8dd4243bb098f9740a748b1"
          ]
        },
        "id": "fvIXIsnCELGJ",
        "outputId": "61c32df9-f05e-497d-fe34-c67fa04ee908"
      },
      "execution_count": 14,
      "outputs": [
        {
          "output_type": "display_data",
          "data": {
            "text/plain": [
              "interactive(children=(FloatSlider(value=140.0, description='diameter_m', max=1000.0, min=10.0, step=10.0), Flo…"
            ],
            "application/vnd.jupyter.widget-view+json": {
              "version_major": 2,
              "version_minor": 0,
              "model_id": "95e7e613bb1a4da8a24f68029729fff2"
            }
          },
          "metadata": {}
        },
        {
          "output_type": "execute_result",
          "data": {
            "text/plain": [
              "<function __main__.simulate_deflection(diameter_m=140, velocity_kmps=19, deflect_percent=10)>"
            ],
            "text/html": [
              "<div style=\"max-width:800px; border: 1px solid var(--colab-border-color);\"><style>\n",
              "      pre.function-repr-contents {\n",
              "        overflow-x: auto;\n",
              "        padding: 8px 12px;\n",
              "        max-height: 500px;\n",
              "      }\n",
              "\n",
              "      pre.function-repr-contents.function-repr-contents-collapsed {\n",
              "        cursor: pointer;\n",
              "        max-height: 100px;\n",
              "      }\n",
              "    </style>\n",
              "    <pre style=\"white-space: initial; background:\n",
              "         var(--colab-secondary-surface-color); padding: 8px 12px;\n",
              "         border-bottom: 1px solid var(--colab-border-color);\"><b>simulate_deflection</b><br/>def simulate_deflection(diameter_m=140, velocity_kmps=19, deflect_percent=10)</pre><pre class=\"function-repr-contents function-repr-contents-collapsed\" style=\"\"><a class=\"filepath\" style=\"display:none\" href=\"#\">/tmp/ipython-input-2119238954.py</a>&lt;no docstring&gt;</pre></div>"
            ]
          },
          "metadata": {},
          "execution_count": 14
        }
      ]
    },
    {
      "cell_type": "markdown",
      "source": [
        "### Deflection Planning with Policy Insight\n",
        "\n",
        "Deflecting an asteroid isn’t just a technical challenge, it’s a policy and planning decision. The sooner a deflection mission is launched, the more impact energy can be reduced, saving lives and infrastructure.\n",
        "\n",
        "This interactive simulation lets you explore:\n",
        "\n",
        "- How early action (in years before impact) reduces energy and crater size  \n",
        "- How much velocity reduction is achieved  \n",
        "- The potential difference in disaster severity between no action and timely action\n",
        "\n",
        "Use the slider to test how effective different mission lead times are in reducing risk.\n"
      ],
      "metadata": {
        "id": "i0ageeWMTDJ-"
      }
    },
    {
      "cell_type": "code",
      "source": [
        "def simulate_deflection(diameter_m=140, velocity_kmps=19, years_until_impact=5):\n",
        "    v_init = velocity_kmps * 1000\n",
        "    deflect_percent = min(0.05 * years_until_impact, 0.5)  # Cap deflection at 50%\n",
        "    v_new = v_init * (1 - deflect_percent)\n",
        "\n",
        "    e_init = calculate_kinetic_energy(diameter_m, v_init)\n",
        "    e_new = calculate_kinetic_energy(diameter_m, v_new)\n",
        "\n",
        "    crater_init = estimate_crater_diameter(e_init)\n",
        "    crater_new = estimate_crater_diameter(e_new)\n",
        "\n",
        "    # risk assessment directly inside here\n",
        "    def assess_risk(crater_size, mag):\n",
        "        if crater_size > 5 or mag > 7:\n",
        "            return \"🔴 High Risk\"\n",
        "        elif crater_size > 1 or mag > 5:\n",
        "            return \"🟡 Moderate Risk\"\n",
        "        else:\n",
        "            return \"🟢 Low Risk\"\n",
        "\n",
        "    # magnitude is based on deflected energy\n",
        "    magnitude = estimate_magnitude(e_new)\n",
        "    risk_level = assess_risk(crater_new, magnitude)\n",
        "\n",
        "    print(f\"🕒 Years Until Impact: {years_until_impact}\")\n",
        "    print(f\"🛡️ Deflection: {deflect_percent*100:.1f}% of velocity reduced\")\n",
        "    print(f\"💥 Original Energy: {e_init:.2e} J\")\n",
        "    print(f\"🛡️ Deflected Energy: {e_new:.2e} J\")\n",
        "    print(f\"🌋 Crater Size: {crater_init:.2f} km → {crater_new:.2f} km\")\n",
        "    print(f\"📊 Risk Assessment: {risk_level}\")\n",
        "\n",
        "    plt.bar(['Original', 'Deflected'], [crater_init, crater_new], color=['red', 'green'])\n",
        "    plt.title('Crater Size Before & After Deflection')\n",
        "    plt.ylabel('Crater Diameter (km)')\n",
        "    plt.grid(True)\n",
        "    plt.show()\n"
      ],
      "metadata": {
        "id": "6Dbic1JeTGIE"
      },
      "execution_count": 15,
      "outputs": []
    },
    {
      "cell_type": "code",
      "source": [
        "simulate_deflection()"
      ],
      "metadata": {
        "colab": {
          "base_uri": "https://localhost:8080/",
          "height": 559
        },
        "id": "g9Zm4ddJUMJC",
        "outputId": "7a55a389-1aa8-476a-b2a2-af303375235c"
      },
      "execution_count": 16,
      "outputs": [
        {
          "output_type": "stream",
          "name": "stdout",
          "text": [
            "🕒 Years Until Impact: 5\n",
            "🛡️ Deflection: 25.0% of velocity reduced\n",
            "💥 Original Energy: 7.78e+17 J\n",
            "🛡️ Deflected Energy: 4.38e+17 J\n",
            "🌋 Crater Size: 2.08 km → 1.80 km\n",
            "📊 Risk Assessment: 🔴 High Risk\n"
          ]
        },
        {
          "output_type": "display_data",
          "data": {
            "text/plain": [
              "<Figure size 640x480 with 1 Axes>"
            ],
            "image/png": "[encoded data removed]"
          },
          "metadata": {}
        }
      ]
    },
    {
      "cell_type": "markdown",
      "source": [
        "## 🧠 Risk Interpretation & Public Policy Messaging\n",
        "\n",
        "This tool goes beyond simulation,  it supports public risk communication and policy decision-making by:\n",
        "\n",
        "- Classifying asteroid threats by crater size and earthquake magnitude\n",
        "- Allowing users to simulate the timing of deflection missions\n",
        "- Showing how earlier action dramatically reduces risk\n",
        "\n",
        "Based on your inputs, the system provides a real-time risk assessment and guidance on potential mitigation.\n",
        "\n",
        "**Examples:**\n",
        "- 🔴 High Risk → Initiate evacuation planning, begin public awareness campaigns\n",
        "- 🟡 Moderate Risk → Monitor regularly, explore budget for deflection\n",
        "- 🟢 Low Risk → Educate public, continue data collection\n"
      ],
      "metadata": {
        "id": "PDkl-5U6TQUr"
      }
    },
    {
      "cell_type": "markdown",
      "source": [
        "## Why This Matters\n",
        "\n",
        "Impactor-2025 is a fictional scenario, but NASA tracks over 26,000 near-Earth asteroids (NEAs) and over 14,000 that are larger than 140 meters remain undiscovered.\n",
        "\n",
        "This tool helps:\n",
        "- Scientists prototype risks\n",
        "- The public visualize damage\n",
        "- Students explore asteroid science\n",
        "\n",
        "## Future Work\n",
        "\n",
        "- Add live data from NASA's NEO API\n",
        "- Use USGS elevation data to simulate tsunamis\n",
        "- Integrate with OpenMDAO to optimize deflection strategy\n",
        "- Translate for education across languages\n",
        "\n",
        "---\n",
        "**Created by Preethika Yetukuri & Pradhyun Yetukuri**  \n",
        "NASA Space Apps Challenge 2025 - Universal Event\n"
      ],
      "metadata": {
        "id": "RnteiwKlEOBp"
      }
    }
  ]
}